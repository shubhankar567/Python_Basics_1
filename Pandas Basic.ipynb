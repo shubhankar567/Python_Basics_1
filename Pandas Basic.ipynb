{
 "cells": [
  {
   "cell_type": "code",
   "execution_count": 4,
   "id": "78c70530-b2fc-4392-969d-698da34d1d82",
   "metadata": {},
   "outputs": [
    {
     "data": {
      "text/plain": [
       "0     4\n",
       "1     8\n",
       "2    15\n",
       "3    16\n",
       "4    23\n",
       "5    42\n",
       "dtype: int64"
      ]
     },
     "execution_count": 4,
     "metadata": {},
     "output_type": "execute_result"
    }
   ],
   "source": [
    "#Answer 1:\n",
    "\n",
    "import pandas as pd\n",
    "\n",
    "series = pd.Series([4, 8, 15, 16, 23, 42])\n",
    "series"
   ]
  },
  {
   "cell_type": "code",
   "execution_count": null,
   "id": "0d429df2-81ac-4902-bb95-196495307065",
   "metadata": {},
   "outputs": [],
   "source": []
  },
  {
   "cell_type": "code",
   "execution_count": 7,
   "id": "6319b71d-c315-44ea-8e0b-8c2ddd1130a5",
   "metadata": {},
   "outputs": [
    {
     "data": {
      "text/plain": [
       "0    11\n",
       "1    12\n",
       "2    13\n",
       "3    14\n",
       "4    15\n",
       "5    16\n",
       "6    17\n",
       "7    18\n",
       "8    19\n",
       "9    20\n",
       "dtype: int64"
      ]
     },
     "execution_count": 7,
     "metadata": {},
     "output_type": "execute_result"
    }
   ],
   "source": [
    "#Answer 2:\n",
    "\n",
    "lst = list(range(11, 21))\n",
    "series1 = pd.Series(lst)\n",
    "series1"
   ]
  },
  {
   "cell_type": "code",
   "execution_count": null,
   "id": "5540c67f-6592-4aac-918f-bae56e099a25",
   "metadata": {},
   "outputs": [],
   "source": []
  },
  {
   "cell_type": "code",
   "execution_count": 10,
   "id": "02510763-4f1e-43c2-9b07-a8274d8dfbcf",
   "metadata": {},
   "outputs": [
    {
     "data": {
      "text/html": [
       "<div>\n",
       "<style scoped>\n",
       "    .dataframe tbody tr th:only-of-type {\n",
       "        vertical-align: middle;\n",
       "    }\n",
       "\n",
       "    .dataframe tbody tr th {\n",
       "        vertical-align: top;\n",
       "    }\n",
       "\n",
       "    .dataframe thead th {\n",
       "        text-align: right;\n",
       "    }\n",
       "</style>\n",
       "<table border=\"1\" class=\"dataframe\">\n",
       "  <thead>\n",
       "    <tr style=\"text-align: right;\">\n",
       "      <th></th>\n",
       "      <th>Name</th>\n",
       "      <th>Age</th>\n",
       "      <th>Gender</th>\n",
       "    </tr>\n",
       "  </thead>\n",
       "  <tbody>\n",
       "    <tr>\n",
       "      <th>0</th>\n",
       "      <td>ALice</td>\n",
       "      <td>25</td>\n",
       "      <td>Female</td>\n",
       "    </tr>\n",
       "    <tr>\n",
       "      <th>1</th>\n",
       "      <td>Bob</td>\n",
       "      <td>30</td>\n",
       "      <td>Male</td>\n",
       "    </tr>\n",
       "    <tr>\n",
       "      <th>2</th>\n",
       "      <td>Claire</td>\n",
       "      <td>27</td>\n",
       "      <td>Female</td>\n",
       "    </tr>\n",
       "  </tbody>\n",
       "</table>\n",
       "</div>"
      ],
      "text/plain": [
       "     Name  Age  Gender\n",
       "0   ALice   25  Female\n",
       "1     Bob   30    Male\n",
       "2  Claire   27  Female"
      ]
     },
     "execution_count": 10,
     "metadata": {},
     "output_type": "execute_result"
    }
   ],
   "source": [
    "#Answer 3:\n",
    "\n",
    "data = {\"Name\": [\"ALice\", 'Bob', 'Claire'],\n",
    "       'Age': [25, 30, 27],\n",
    "       'Gender': ['Female', 'Male', 'Female']}\n",
    "\n",
    "pd.DataFrame(data)"
   ]
  },
  {
   "cell_type": "code",
   "execution_count": null,
   "id": "3c634bba-05c2-4a94-955c-86890641bb1d",
   "metadata": {},
   "outputs": [],
   "source": []
  },
  {
   "cell_type": "markdown",
   "id": "ef41384d-0c12-4a40-878e-b212088ab779",
   "metadata": {},
   "source": [
    "Answer 4:\n",
    "\n",
    "A `DataFrame` is a 2-dimensional data structure that can contain multiple lists of heterogeneous type of data. It can be considered as a collection of `Series`. On the other hand, a `Series` is a 1-dimensional data structure that contains a single list which can store heterogeneous type of data.\n",
    "\n",
    "Here's an example to illustrate the difference:\n",
    "```python\n",
    "import pandas as pd\n",
    "\n",
    "# Create dictionary\n",
    "d = {'one': [1, 2, 3, 4, 5, 6]}\n",
    "\n",
    "# Create series\n",
    "ser = pd.Series(d)\n",
    "\n",
    "# Display series\n",
    "print(\"Created Series:\\n\", ser)\n",
    "\n",
    "# Create dictionary\n",
    "d = {'a': ['This', 'It', 'It'],\n",
    "     'b': ['is', 'contain', 'is'],\n",
    "     'c': ['a', 'multiple', '2-D'],\n",
    "     'd': ['DataFrame', 'rows and columns', 'Data structure']}\n",
    "\n",
    "# Create DataFrame\n",
    "df = pd.DataFrame(d)\n",
    "\n",
    "# Display DataFrame\n",
    "print(\"Created DataFrame:\\n\", df)\n",
    "```\n",
    "In this example, we create a `Series` object with a single key-value pair and a `DataFrame` object with multiple key-value pairs. The `Series` object is one-dimensional while the `DataFrame` object is two-dimensional."
   ]
  },
  {
   "cell_type": "code",
   "execution_count": null,
   "id": "6fcb6e7d-f4fb-4670-83a1-86cde203bf62",
   "metadata": {},
   "outputs": [],
   "source": []
  },
  {
   "cell_type": "markdown",
   "id": "ce4b9e1b-accb-4b1c-9ebb-7249af7fdb8b",
   "metadata": {},
   "source": [
    "Answer 5:\n",
    "\n",
    "There are many functions you can use to manipulate data in a `DataFrame`. Some common functions include:\n",
    "- `read_csv()`: reads data from a CSV file into a `DataFrame`.\n",
    "- `head()`: returns the first n rows of a `DataFrame`.\n",
    "- `shape`: returns the number of rows and columns in a `DataFrame`.\n",
    "- `describe()`: generates descriptive statistics of a `DataFrame`.\n",
    "- `dropna()`: drops rows or columns with missing values from a `DataFrame`.\n",
    "- `merge()`: merges two `DataFrames` based on a common column.\n",
    "- `rename()`: renames columns in a `DataFrame`.\n",
    "\n",
    "For example, you might use the `dropna()` function to remove rows with missing values from your dataset before performing analysis on it. Here's an example:\n",
    "```python\n",
    "import pandas as pd\n",
    "\n",
    "# Create DataFrame\n",
    "df = pd.DataFrame({'A': [1, 2, np.nan], 'B': [4, np.nan, 6]})\n",
    "\n",
    "# Drop rows with missing values\n",
    "df = df.dropna()\n",
    "\n",
    "# Display resulting DataFrame\n",
    "print(df)\n",
    "```\n",
    "In this example, we create a `DataFrame` with missing values and use the `dropna()` function to remove rows with missing values. The resulting `DataFrame` contains only rows without missing values."
   ]
  },
  {
   "cell_type": "code",
   "execution_count": null,
   "id": "11930d35-218b-4347-a259-aa03db47c62e",
   "metadata": {},
   "outputs": [],
   "source": []
  },
  {
   "cell_type": "markdown",
   "id": "753f1a2f-2286-44db-a9d8-ee9f98038bf1",
   "metadata": {},
   "source": [
    "Answer 6:\n",
    "\n",
    "All three of these data structures - `Series`, `DataFrame`, and `Panel` - are mutable in nature. This means that their contents can be modified after they have been created. For example, you can add, remove or modify elements in a `Series` or `DataFrame`, or add, remove or modify items in a `Panel`."
   ]
  },
  {
   "cell_type": "code",
   "execution_count": null,
   "id": "e10ba9fa-3c0b-4959-984f-75b8c0156e12",
   "metadata": {},
   "outputs": [],
   "source": []
  },
  {
   "cell_type": "markdown",
   "id": "f8cd95d8-3928-47d8-8f36-59257adf1de4",
   "metadata": {},
   "source": [
    "Answer 7:\n",
    "\n",
    "You can create a `DataFrame` using multiple `Series` by passing a dictionary of `Series` objects to the `DataFrame` constructor. The keys of the dictionary will become the column names in the resulting `DataFrame`, and the values of the `Series` will become the values in the corresponding columns.\n",
    "\n",
    "Here's an example:\n",
    "```python\n",
    "import pandas as pd\n",
    "\n",
    "# Create Series\n",
    "s1 = pd.Series([1, 2, 3])\n",
    "s2 = pd.Series(['a', 'b', 'c'])\n",
    "\n",
    "# Create DataFrame using multiple Series\n",
    "df = pd.DataFrame({'A': s1, 'B': s2})\n",
    "\n",
    "# Display resulting DataFrame\n",
    "print(df)\n",
    "```\n",
    "In this example, we create two `Series` objects and use them to create a `DataFrame`. The resulting `DataFrame` has two columns, 'A' and 'B', corresponding to the two `Series` objects. The values in the `Series` become the values in the corresponding columns of the `DataFrame`."
   ]
  },
  {
   "cell_type": "code",
   "execution_count": null,
   "id": "c941afba-b29e-4efa-88bc-84e62b8d5fa1",
   "metadata": {},
   "outputs": [],
   "source": []
  }
 ],
 "metadata": {
  "kernelspec": {
   "display_name": "Python 3 (ipykernel)",
   "language": "python",
   "name": "python3"
  },
  "language_info": {
   "codemirror_mode": {
    "name": "ipython",
    "version": 3
   },
   "file_extension": ".py",
   "mimetype": "text/x-python",
   "name": "python",
   "nbconvert_exporter": "python",
   "pygments_lexer": "ipython3",
   "version": "3.10.8"
  }
 },
 "nbformat": 4,
 "nbformat_minor": 5
}
