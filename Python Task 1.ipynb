{
 "cells": [
  {
   "cell_type": "markdown",
   "id": "c792e4e0-b938-4ee7-b508-bae08b71888b",
   "metadata": {},
   "source": [
    "Create a function which will take a list as an argument and return the product of all the numbers\n",
    "after creating a flat list.\n",
    "Use the below-given list as an argument for your function.\n",
    "list1 = [1,2,3,4, [44,55,66, True], False, (34,56,78,89,34), {1,2,3,3,2,1}, {1:34, \"key2\": [55, 67, 78, 89], 4: (45, 22, 61, 34)}, [56, 'data science'], 'Machine Learning']\n",
    "\n",
    "Note: you must extract numeric keys and values of the dictionary also."
   ]
  },
  {
   "cell_type": "markdown",
   "id": "0850ca4a-e2b3-446d-8cd9-da403f5cdeaf",
   "metadata": {},
   "source": [
    "Note: In the given list, there is a set also. So all the duplicate elements of that set are not mentioned. So  {1, 2, 3, 3, 2, 1} is considered as {1, 2, 3}."
   ]
  },
  {
   "cell_type": "code",
   "execution_count": 2,
   "id": "8e509ed1-384a-4093-a18d-cf64a6a91713",
   "metadata": {},
   "outputs": [
    {
     "name": "stdout",
     "output_type": "stream",
     "text": [
      "Your flat list of integer values is [1, 2, 3, 4, 44, 55, 66, 34, 56, 78, 89, 34, 1, 2, 3, 1, 4, 34, 55, 67, 78, 89, 45, 22, 61, 34, 56]\n",
      "The product of all the elements inside the flat list is 4134711838987085478833841242112000\n"
     ]
    }
   ],
   "source": [
    "from functools import reduce\n",
    "\n",
    "\n",
    "def product(lst):\n",
    "    flat_list = []\n",
    "    def flatten_list(l):\n",
    "        for i in l:\n",
    "            if type(i) == int:\n",
    "                flat_list.append(i)\n",
    "            elif type(i) == list or type(i) == set or type(i) == tuple:\n",
    "                flatten_list(i)\n",
    "            elif type(i) == dict:\n",
    "                flatten_list(i.keys())\n",
    "                flatten_list(i.values())\n",
    "    \n",
    "    flatten_list(lst)\n",
    "    print(f\"Your flat list of integer values is {flat_list}\")\n",
    "    \n",
    "    return reduce(lambda x, y: x*y, flat_list)\n",
    "\n",
    "list1 = [1, 2, 3, 4, [44, 55, 66, True], False, (34, 56, 78, 89, 34), {1, 2, 3, 3, 2, 1}, {1: 34, \"key2\": [55, 67, 78, 89], 4: (45, 22, 61, 34)}, [56, 'data science'], 'Machine Learning']\n",
    "result = product(list1)\n",
    "print(f\"The product of all the elements inside the flat list is {result}\")"
   ]
  },
  {
   "cell_type": "code",
   "execution_count": null,
   "id": "f3337667-1ad7-43ee-a1cf-e339fa261956",
   "metadata": {},
   "outputs": [],
   "source": []
  },
  {
   "cell_type": "markdown",
   "id": "1bc1b693-de8c-4fde-8959-f47b8fe70a4e",
   "metadata": {},
   "source": [
    "\n",
    "\n",
    "Question 2:\n",
    "Write a python program for encrypting a message sent to you by your friend. The logic of encryption should be such that, for 'a' the output should be 'z'. For 'b', the output should be 'y'. For 'c', the output should be 'x' respectively. Also, the whitespace should be replaced with a dollar sign. Keep the punctuation\n",
    "marks unchanged.\n",
    "\n",
    "Input Sentence: I want to become a Data Scientist.\n",
    "Encrypt the above input sentence using the program you just created.\n",
    "\n",
    "Note: Convert the given input sentence into lowercase before encrypting. The final output should be\n",
    "lowercase."
   ]
  },
  {
   "cell_type": "code",
   "execution_count": 7,
   "id": "fff65527-34c9-4c29-bffb-0b6c6e747780",
   "metadata": {},
   "outputs": [
    {
     "name": "stdin",
     "output_type": "stream",
     "text": [
      "Enter the input sentence:  I want to become a Data Scientist.\n"
     ]
    },
    {
     "name": "stdout",
     "output_type": "stream",
     "text": [
      "r$dzmg$gl$yvxlnv$z$wzgz$hxrvmgrhg.\n"
     ]
    }
   ],
   "source": [
    "a = ord('a')\n",
    "def encrypt(string):\n",
    "    result = ''\n",
    "    \n",
    "    for char in string:\n",
    "        if char.isalpha():\n",
    "            result += chr(a + (25-(ord(char)-a)))\n",
    "        elif char.isspace():\n",
    "            result += '$'\n",
    "        else:\n",
    "            result += char\n",
    "    \n",
    "    return result\n",
    "\n",
    "string = input(\"Enter the input sentence: \").lower()\n",
    "encrypted_msg = encrypt(string)\n",
    "print(encrypted_msg)"
   ]
  },
  {
   "cell_type": "code",
   "execution_count": null,
   "id": "15a39acb-2f0f-469d-b54d-3f6eb7a8b3e4",
   "metadata": {},
   "outputs": [],
   "source": []
  }
 ],
 "metadata": {
  "kernelspec": {
   "display_name": "Python 3 (ipykernel)",
   "language": "python",
   "name": "python3"
  },
  "language_info": {
   "codemirror_mode": {
    "name": "ipython",
    "version": 3
   },
   "file_extension": ".py",
   "mimetype": "text/x-python",
   "name": "python",
   "nbconvert_exporter": "python",
   "pygments_lexer": "ipython3",
   "version": "3.10.8"
  }
 },
 "nbformat": 4,
 "nbformat_minor": 5
}
