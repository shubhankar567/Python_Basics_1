{
 "cells": [
  {
   "cell_type": "markdown",
   "id": "26fd856e-ee2d-45cd-84d4-dc0f619ad0a4",
   "metadata": {},
   "source": [
    "Answer 1:\n",
    "\n",
    "GET and POST are two commonly used HTTP methods for sending requests from a client to a server.\n",
    "\n",
    "The **GET** method is used to request data from a specified resource. It is mainly used to retrieve data and should not be used to modify data on the server. The data sent in a GET request is appended to the URL as query parameters. GET requests can be cached, remain in the browser history, and can be bookmarked. However, they have length restrictions and should never be used when dealing with sensitive data.\n",
    "\n",
    "The **POST** method is used to send data to a server to create or update a resource. The data sent in a POST request is stored in the request body of the HTTP request. POST requests are not cached, do not remain in the browser history, and cannot be bookmarked. They have no restrictions on data length or type and are more secure than GET requests because the data sent is not part of the URL."
   ]
  },
  {
   "cell_type": "code",
   "execution_count": null,
   "id": "9e6cfd19-ab73-4509-bd6a-f657bc5d2a22",
   "metadata": {},
   "outputs": [],
   "source": []
  },
  {
   "cell_type": "markdown",
   "id": "072bcb0a-6800-49a6-bdf4-0f43fe2f7170",
   "metadata": {},
   "source": [
    "Answer 2:\n",
    "\n",
    "In Flask, the `request` object is used to access data sent by the client to the server. This data can be recovered using the GET/POST methods. The `request` object contains all the data sent from the client to the server during a request."
   ]
  },
  {
   "cell_type": "code",
   "execution_count": null,
   "id": "d7fdf778-353c-4635-bf7a-942335ebd0ec",
   "metadata": {},
   "outputs": [],
   "source": []
  },
  {
   "cell_type": "markdown",
   "id": "02cab2db-9996-49f9-9919-bb7b6be8eddb",
   "metadata": {},
   "source": [
    "Answer 3:\n",
    "\n",
    "The `redirect()` function is used in Flask to send the user to a different URL with a specified status code. This function is part of the Flask class and returns a response object that, when called, redirects the client to the target location.\n",
    "\n",
    "Redirects are commonly used in web applications to send users to a different page after they have completed an action, such as submitting a form or logging in. For example, after a user logs in, you might want to redirect them to their profile page. You can do this by calling the `redirect()` function and passing it the URL of the profile page."
   ]
  },
  {
   "cell_type": "code",
   "execution_count": null,
   "id": "a9f9c65d-13b1-4d69-9e62-905dfd06838a",
   "metadata": {},
   "outputs": [],
   "source": []
  },
  {
   "cell_type": "markdown",
   "id": "8be7e1c8-a17b-43df-a0fa-494347cb766a",
   "metadata": {},
   "source": [
    "Answer 4:\n",
    "\n",
    "Templates in Flask are files that contain static data as well as placeholders for dynamic data. They are used to generate HTML pages dynamically by rendering them with specific data.\n",
    "\n",
    "The `render_template()` function is used in Flask to render templates. This function takes the name of a template file and a variable number of keyword arguments as input. The keyword arguments represent the values that should be used to fill the placeholders in the template.\n",
    "\n",
    "Flask uses the Jinja2 template engine to render templates. Jinja2 is a powerful and flexible template engine that allows you to define complex templates with advanced features such as template inheritance, filters, and macros."
   ]
  },
  {
   "cell_type": "code",
   "execution_count": null,
   "id": "c60141cb-4af1-43a6-8ea0-b6bf36f521e1",
   "metadata": {},
   "outputs": [],
   "source": []
  },
  {
   "cell_type": "markdown",
   "id": "d515155d-334a-469c-bd82-cdc5ed650b79",
   "metadata": {},
   "source": [
    "Answer 5:\n",
    "\n",
    "```pyhton\n",
    "\n",
    "from flask import Flask, jsonify\n",
    "app = Flask(__name__)\n",
    "\n",
    "@app.route('/hello')\n",
    "def hello():\n",
    "    return jsonify({'message': 'Hello World!'})\n",
    "\n",
    "if __name__ == '__main__':\n",
    "    app.run()\n",
    "```"
   ]
  },
  {
   "cell_type": "code",
   "execution_count": null,
   "id": "eb16ec4a-dc53-4def-967c-13b268a0dccb",
   "metadata": {},
   "outputs": [],
   "source": []
  }
 ],
 "metadata": {
  "kernelspec": {
   "display_name": "Python 3 (ipykernel)",
   "language": "python",
   "name": "python3"
  },
  "language_info": {
   "codemirror_mode": {
    "name": "ipython",
    "version": 3
   },
   "file_extension": ".py",
   "mimetype": "text/x-python",
   "name": "python",
   "nbconvert_exporter": "python",
   "pygments_lexer": "ipython3",
   "version": "3.10.8"
  }
 },
 "nbformat": 4,
 "nbformat_minor": 5
}
