{
 "cells": [
  {
   "cell_type": "markdown",
   "id": "3d4c5e5f-9639-4d68-ab73-88e6fea5e20f",
   "metadata": {},
   "source": [
    "Answer 1:\n",
    "\n",
    "An **exception** is a Python object that represents an error. When a Python script raises an exception, it must either handle the exception immediately otherwise it terminates and quits.\n",
    "\n",
    "The difference between **Syntax Errors** and **Exceptions** is that Syntax Errors are caused by the wrong syntax in the code and leads to the termination of the program. On the other hand, Exceptions are raised when the program is syntactically correct, but the code results in an error. This error does not stop the execution of the program, however, it changes the normal flow of the program."
   ]
  },
  {
   "cell_type": "code",
   "execution_count": null,
   "id": "aeee0bc1-76dd-4a9e-98ed-0d0d765154fb",
   "metadata": {},
   "outputs": [],
   "source": []
  },
  {
   "cell_type": "markdown",
   "id": "cfcc5c89-d43e-44ca-bc0b-45efd5a9efed",
   "metadata": {},
   "source": [
    "Answer 2:\n",
    "\n",
    "When an exception is not handled, it causes the current process to stop and passes it to the calling process until it is handled. If not handled, the program will crash .\n",
    "\n",
    "Here's an example:\n",
    "```python\n",
    "numerator = 10\n",
    "denominator = 0\n",
    "result = numerator/denominator\n",
    "print(result)\n",
    "```\n",
    "In this example, we are trying to divide a number by 0. This code generates a `ZeroDivisionError` exception. Since the exception is not handled, the program crashes and produces a traceback."
   ]
  },
  {
   "cell_type": "code",
   "execution_count": null,
   "id": "bf224ee6-dd77-4606-8a12-21926bfeb0e1",
   "metadata": {},
   "outputs": [],
   "source": []
  },
  {
   "cell_type": "markdown",
   "id": "333eee6c-09b1-4d1f-bf4f-7b763b42a1ff",
   "metadata": {},
   "source": [
    "Answer 3:\n",
    "\n",
    "The try and except statements are used to catch and handle exceptions in Python. Statements that can raise exceptions are kept inside the try clause and the statements that handle the exception are written inside the except clause.\n",
    "\n",
    "Here’s an example:\n",
    "```python\n",
    "try:\n",
    "    numerator = 10\n",
    "    denominator = 0\n",
    "    result = numerator/denominator\n",
    "    print(result)\n",
    "except ZeroDivisionError:\n",
    "    print(\"Error: Denominator cannot be 0.\")\n",
    "\n",
    "```\n",
    "In this example, we are trying to divide a number by 0. This code generates a ZeroDivisionError exception. To handle the exception, we have put the code, result = numerator/denominator inside the try block. Now when an exception occurs, the rest of the code inside the try block is skipped. The except block catches the exception and statements inside the except block are executed ."
   ]
  },
  {
   "cell_type": "code",
   "execution_count": null,
   "id": "98dca5fc-1eb8-44ec-bc9e-4bb6aa1dc05a",
   "metadata": {},
   "outputs": [],
   "source": []
  },
  {
   "cell_type": "markdown",
   "id": "a464fc0a-57af-4948-ac20-a8c29154cf43",
   "metadata": {},
   "source": [
    "Answer 4:\n",
    "\n",
    "a) `try` and `else`: The code enters the `else` block only if the `try` clause does not raise an exception.\n",
    "\n",
    "Here's an example:\n",
    "```python\n",
    "try:\n",
    "    numerator = 10\n",
    "    denominator = 2\n",
    "    result = numerator/denominator\n",
    "except ZeroDivisionError:\n",
    "    print(\"Error: Denominator cannot be 0.\")\n",
    "else:\n",
    "    print(\"Result:\", result)\n",
    "```\n",
    "In this example, we are trying to divide a number by 2. This code does not generate an exception. Since the exception is not raised, the `else` block is executed and the result is printed.\n",
    "\n",
    "b) `finally`: The `finally` keyword is used to create a block of code to execute after the `try...except` block. This `finally` block of code will get executed, even if `try` raises an exception.\n",
    "\n",
    "Here's an example:\n",
    "```python\n",
    "try:\n",
    "    numerator = 10\n",
    "    denominator = 0\n",
    "    result = numerator/denominator\n",
    "except ZeroDivisionError:\n",
    "    print(\"Error: Denominator cannot be 0.\")\n",
    "finally:\n",
    "    print(\"This is always executed\")\n",
    "```\n",
    "In this example, we are trying to divide a number by 0. This code generates a `ZeroDivisionError` exception. Since the exception is raised, the `except` block is executed and the error message is printed. After that, the `finally` block is executed .\n",
    "\n",
    "c) `raise`: The `raise` keyword is used to manually trigger an exception in the code.\n",
    "\n",
    "Here's an example:\n",
    "```python\n",
    "x = -1\n",
    "if x < 0:\n",
    "    raise Exception(\"x should be positive\")\n",
    "```\n",
    "In this example, we are checking if the value of x is less than 0. Since it is, we manually raise an exception using the `raise` keyword .\n"
   ]
  },
  {
   "cell_type": "code",
   "execution_count": null,
   "id": "9fbc9b59-e935-449a-987d-88cc135d6eb4",
   "metadata": {},
   "outputs": [],
   "source": []
  },
  {
   "cell_type": "markdown",
   "id": "c7a3647f-727b-4f07-9483-1cb846f6756d",
   "metadata": {},
   "source": [
    "Answer 5:\n",
    "\n",
    "Custom exceptions are user-defined exceptions that are created by creating a new class that is derived from the built-in `Exception` class. We need custom exceptions to handle specific errors that are not covered by the built-in exceptions.\n",
    "\n",
    "Here's an example:\n",
    "```python\n",
    "class InvalidAgeException(Exception):\n",
    "    \"\"\"Raised when the input value is less than 18\"\"\"\n",
    "    pass\n",
    "\n",
    "age = 16\n",
    "try:\n",
    "    if age < 18:\n",
    "        raise InvalidAgeException\n",
    "    else:\n",
    "        print(\"Eligible to Vote\")\n",
    "except InvalidAgeException:\n",
    "    print(\"Exception occurred: Invalid Age\")\n",
    "```\n",
    "In this example, we have defined a custom exception `InvalidAgeException` by creating a new class that is derived from the built-in `Exception` class. Here, when `age` is less than 18, this code generates an exception. When an exception occurs, the rest of the code inside the `try` block is skipped. The `except` block catches the user-defined `InvalidAgeException` exception and statements inside the `except` block are executed."
   ]
  },
  {
   "cell_type": "code",
   "execution_count": null,
   "id": "ff7d8136-6fa6-4fb6-a01f-ef0ff179d14e",
   "metadata": {},
   "outputs": [],
   "source": []
  },
  {
   "cell_type": "markdown",
   "id": "0d4f1aab-a3fc-4fb5-b9db-dfd4053b988e",
   "metadata": {},
   "source": [
    "Answer 6:\n",
    "\n",
    "Here's an example of creating a custom exception class and using it to handle an exception:\n",
    "```python\n",
    "class MyCustomException(Exception):\n",
    "    \"\"\"Raised when a specific error occurs\"\"\"\n",
    "    pass\n",
    "\n",
    "try:\n",
    "    # code that could raise an exception\n",
    "    raise MyCustomException(\"An error occurred\")\n",
    "except MyCustomException as e:\n",
    "    print(e)\n",
    "```\n",
    "In this example, we have defined a custom exception `MyCustomException` by creating a new class that is derived from the built-in `Exception` class. In the `try` block, we manually raise the `MyCustomException` with a message \"An error occurred\". The `except` block catches the user-defined `MyCustomException` exception and prints the message."
   ]
  },
  {
   "cell_type": "code",
   "execution_count": null,
   "id": "f8510469-8125-42d1-b574-b3255fa6f270",
   "metadata": {},
   "outputs": [],
   "source": []
  }
 ],
 "metadata": {
  "kernelspec": {
   "display_name": "Python 3 (ipykernel)",
   "language": "python",
   "name": "python3"
  },
  "language_info": {
   "codemirror_mode": {
    "name": "ipython",
    "version": 3
   },
   "file_extension": ".py",
   "mimetype": "text/x-python",
   "name": "python",
   "nbconvert_exporter": "python",
   "pygments_lexer": "ipython3",
   "version": "3.10.8"
  }
 },
 "nbformat": 4,
 "nbformat_minor": 5
}
