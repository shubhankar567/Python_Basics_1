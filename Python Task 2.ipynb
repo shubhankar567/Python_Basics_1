{
 "cells": [
  {
   "cell_type": "markdown",
   "id": "ecc2d97a-9366-4c26-b08d-8cb8c667cd4d",
   "metadata": {},
   "source": [
    "You are writing code for a company. The requirement of the company is that you create a python\n",
    "function that will check whether the password entered by the user is correct or not. The function should\n",
    "take the password as input and return the string “Valid Password” if the entered password follows the\n",
    "below-given password guidelines else it should return “Invalid Password”.\n",
    "\n",
    "Note: \n",
    "1. The Password should contain at least two uppercase letters and at least two lowercase letters.\n",
    "2. The Password should contain at least a number and three special characters.\n",
    "3. The length of the password should be 10 characters long."
   ]
  },
  {
   "cell_type": "code",
   "execution_count": 5,
   "id": "879c2a98-a60f-41e2-b16d-feaa5cfb7dae",
   "metadata": {},
   "outputs": [
    {
     "name": "stdout",
     "output_type": "stream",
     "text": [
      "Valid Password\n"
     ]
    }
   ],
   "source": [
    "def checkPass(password):\n",
    "    upperCount, lowerCount, numCount, specialCount = 0, 0, 0, 0\n",
    "    if len(password) != 10:\n",
    "        return \"Invalid Password\"\n",
    "    else:\n",
    "        for char in password:\n",
    "            if char.isalpha() and char.isupper():\n",
    "                upperCount += 1\n",
    "            elif char.isalpha() and char.islower():\n",
    "                lowerCount +=1\n",
    "            elif char.isnumeric():\n",
    "                numCount += 1\n",
    "            elif char.isspace():\n",
    "                pass\n",
    "            else:\n",
    "                specialCount += 1\n",
    "        if upperCount >= 2 and lowerCount >= 2 and numCount >= 1 and specialCount >= 3:\n",
    "            return \"Valid Password\"\n",
    "        else:\n",
    "            return \"Invalid Password\"\n",
    "\n",
    "password = \"fOSdij8$&%\"\n",
    "print(checkPass(password))"
   ]
  },
  {
   "cell_type": "code",
   "execution_count": null,
   "id": "cb285a11-d8d9-4cd7-a61b-a6ab9381d748",
   "metadata": {},
   "outputs": [],
   "source": []
  },
  {
   "cell_type": "markdown",
   "id": "5d69b4d3-8639-4525-b5d9-ddd8f9841039",
   "metadata": {},
   "source": [
    "Solve the below-given questions using at least one of the following:\n",
    "Lambda function,\n",
    "Filter function,\n",
    "Map function,\n",
    "List Comprehension.\n",
    "\n",
    "1. Check if the string starts with a particular letter\n",
    "2. Check if the string is numeric\n",
    "3. Sort a list of tuples having fruit names and their quantity  [(\"mango\",99),(\"orange\",80),(\"grapes\", 1000)]\n",
    "4. Find the squares of numbers from 1 to 10\n",
    "5. Find the cube root of numbers from 1 to 10\n",
    "6. Check if a given number is even\n",
    "7. Filter odd numbers from the given list. [1,2,3,4,5,6,7,8,9,10]\n",
    "8. Sort a list of integers into positive and negative integers lists. [1,2,3,4,5,6,-1,-2,-3,-4,-5,0]"
   ]
  },
  {
   "cell_type": "code",
   "execution_count": 8,
   "id": "559c6b05-4580-4271-8c5a-dfa85a192b21",
   "metadata": {},
   "outputs": [
    {
     "name": "stdout",
     "output_type": "stream",
     "text": [
      "True\n",
      "False\n"
     ]
    }
   ],
   "source": [
    "#1\n",
    "\n",
    "string = \"Student of Data Science\".lower()\n",
    "result = lambda string, letter: True if string[0]==letter else False\n",
    "print(result(string, 's'))\n",
    "print(result(string, 'a'))"
   ]
  },
  {
   "cell_type": "code",
   "execution_count": 9,
   "id": "7614a5fc-6205-4740-8f82-d3a8cd94f80c",
   "metadata": {},
   "outputs": [
    {
     "name": "stdout",
     "output_type": "stream",
     "text": [
      "True\n",
      "False\n"
     ]
    }
   ],
   "source": [
    "#2\n",
    "\n",
    "result = lambda string: string.isnumeric()\n",
    "print(result(\"1243\"))\n",
    "print(result(\"Python\"))"
   ]
  },
  {
   "cell_type": "code",
   "execution_count": 13,
   "id": "e353189c-7b6d-4771-9341-229ce4340f97",
   "metadata": {},
   "outputs": [
    {
     "name": "stdout",
     "output_type": "stream",
     "text": [
      "[('orange', 80), ('mango', 99), ('grapes', 1000)]\n"
     ]
    }
   ],
   "source": [
    "#3\n",
    "\n",
    "lst = [(\"mango\",99),(\"orange\",80),(\"grapes\", 1000)]\n",
    "lst.sort(key = lambda x: x[1])            #sorting the list on the basis of the fruits_count\n",
    "print(lst)"
   ]
  },
  {
   "cell_type": "code",
   "execution_count": 15,
   "id": "73bbdc1d-ac80-4a7c-8f8d-27c7236b0642",
   "metadata": {},
   "outputs": [
    {
     "data": {
      "text/plain": [
       "[1, 4, 9, 16, 25, 36, 49, 64, 81, 100]"
      ]
     },
     "execution_count": 15,
     "metadata": {},
     "output_type": "execute_result"
    }
   ],
   "source": [
    "#4\n",
    "\n",
    "lst = [x**2 for x in range(1, 11)]\n",
    "lst"
   ]
  },
  {
   "cell_type": "code",
   "execution_count": 19,
   "id": "694d2213-9231-42c0-a24f-ffca3dad1f55",
   "metadata": {},
   "outputs": [
    {
     "data": {
      "text/plain": [
       "[1.0,\n",
       " 1.2599210498948732,\n",
       " 1.4422495703074083,\n",
       " 1.5874010519681994,\n",
       " 1.7099759466766968,\n",
       " 1.8171205928321397,\n",
       " 1.912931182772389,\n",
       " 2.0,\n",
       " 2.080083823051904,\n",
       " 2.154434690031884]"
      ]
     },
     "execution_count": 19,
     "metadata": {},
     "output_type": "execute_result"
    }
   ],
   "source": [
    "#5 \n",
    "\n",
    "lst = [x**(1/3) for x in range(1,11)]\n",
    "lst"
   ]
  },
  {
   "cell_type": "code",
   "execution_count": 20,
   "id": "7822e1e0-2fde-47d2-aa0c-90244cfb5e74",
   "metadata": {},
   "outputs": [
    {
     "name": "stdout",
     "output_type": "stream",
     "text": [
      "Odd\n",
      "Even\n"
     ]
    }
   ],
   "source": [
    "#6\n",
    "\n",
    "check = lambda x: \"Even\" if x%2 ==0 else \"Odd\"\n",
    "print(check(765))\n",
    "print(check(74))"
   ]
  },
  {
   "cell_type": "code",
   "execution_count": 22,
   "id": "a217e22a-2ccf-46d4-a797-4030143ac130",
   "metadata": {},
   "outputs": [
    {
     "name": "stdout",
     "output_type": "stream",
     "text": [
      "[1, 3, 5, 7, 9]\n"
     ]
    }
   ],
   "source": [
    "#7\n",
    "\n",
    "lst = list(range(1,11))\n",
    "print(list(filter(lambda x: x %2 != 0, lst)))"
   ]
  },
  {
   "cell_type": "code",
   "execution_count": 25,
   "id": "39513096-20d6-4ef4-b306-cd652c7deb7c",
   "metadata": {},
   "outputs": [
    {
     "name": "stdout",
     "output_type": "stream",
     "text": [
      "[1, 2, 3, 4, 5, 6, 0]\n",
      "[-1, -2, -3, -4, -5]\n"
     ]
    }
   ],
   "source": [
    "#8\n",
    "\n",
    "lst = [1,2,3,4,5,6,-1,-2,-3,-4,-5,0]\n",
    "positive = list(filter(lambda x: x>=0, lst))\n",
    "negative = list(filter(lambda x: x<0, lst))\n",
    "print(positive, negative, sep = \"\\n\")"
   ]
  },
  {
   "cell_type": "code",
   "execution_count": null,
   "id": "995d6556-ecc1-4a83-9cdb-a081c15ff46d",
   "metadata": {},
   "outputs": [],
   "source": []
  }
 ],
 "metadata": {
  "kernelspec": {
   "display_name": "Python 3 (ipykernel)",
   "language": "python",
   "name": "python3"
  },
  "language_info": {
   "codemirror_mode": {
    "name": "ipython",
    "version": 3
   },
   "file_extension": ".py",
   "mimetype": "text/x-python",
   "name": "python",
   "nbconvert_exporter": "python",
   "pygments_lexer": "ipython3",
   "version": "3.10.8"
  }
 },
 "nbformat": 4,
 "nbformat_minor": 5
}
