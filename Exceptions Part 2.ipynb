{
 "cells": [
  {
   "cell_type": "markdown",
   "id": "96babf8b-9e43-433d-bf13-5e45205dabaf",
   "metadata": {},
   "source": [
    "Answer 1:\n",
    "\n",
    "In Python, when creating a custom exception, it is important to derive the new class from the built-in `Exception` class. This allows us to improve the quality of error messages, centralize error handling, make our code more modular and maintainable, and handle complex error scenarios."
   ]
  },
  {
   "cell_type": "code",
   "execution_count": null,
   "id": "badc2bad-a676-4c65-9fac-418cc3ae0d0d",
   "metadata": {},
   "outputs": [],
   "source": []
  },
  {
   "cell_type": "markdown",
   "id": "dc1c5701-bd69-4c1f-8dd2-0aad4cbc15b1",
   "metadata": {},
   "source": [
    "Answer 2:\n",
    "\n",
    "Here is a Python program that prints the Exception Hierarchy:\n",
    "\n",
    "```python\n",
    "import inspect\n",
    "import builtins\n",
    "\n",
    "def print_exception_tree(thisclass, indent):\n",
    "    if issubclass(thisclass, BaseException):\n",
    "        print(f\"{' '*indent}{thisclass.__name__}\")\n",
    "        for subclass in thisclass.__subclasses__():\n",
    "            print_exception_tree(subclass, indent+4)\n",
    "\n",
    "print_exception_tree(builtins.BaseException, 0)\n",
    "```\n",
    "\n",
    "This program uses the `inspect` and `builtins` modules to access the built-in exception classes. It defines a recursive function `print_exception_tree` that takes a class and an indentation level as arguments. The function checks if the class is a subclass of `BaseException`, and if it is, it prints the class name indented by the specified amount. Then it calls itself recursively on each of the subclasses of the given class, increasing the indentation level by 4 each time. Finally, the function is called on `builtins.BaseException` with an initial indentation level of 0 to print the entire exception hierarchy."
   ]
  },
  {
   "cell_type": "code",
   "execution_count": null,
   "id": "113adb9f-4344-40ce-a0ea-b7258c2426e7",
   "metadata": {},
   "outputs": [],
   "source": []
  },
  {
   "cell_type": "markdown",
   "id": "9d298f83-f3ce-4f7e-ab83-991a55c298fa",
   "metadata": {},
   "source": [
    "Answer 3:\n",
    "\n",
    "The `ArithmeticError` class in Python is used to handle all the errors that occur while performing arithmetic operations. It is a subclass of the `Exception` class and serves as the base class for other specific exceptions, including `ZeroDivisionError`, `OverflowError`, and `FloatingPointError`.\n",
    "\n",
    "`ZeroDivisionError` is raised when the second argument of a division or modulo operation is zero. For example:\n",
    "```python\n",
    "try:\n",
    "    x = 1 / 0\n",
    "except ZeroDivisionError:\n",
    "    print(\"division by zero\")\n",
    "```\n",
    "\n",
    "`OverflowError` is raised when the result of an arithmetic operation is too large to be represented. This cannot occur for integers (which would rather raise `MemoryError`) but for floating point numbers. For example:\n",
    "```python\n",
    "import math\n",
    "try:\n",
    "    x = math.exp(1000)\n",
    "except OverflowError:\n",
    "    print(\"math range error\")\n",
    "```"
   ]
  },
  {
   "cell_type": "code",
   "execution_count": null,
   "id": "1fa5f683-369d-4f50-805b-91e44f930f3b",
   "metadata": {},
   "outputs": [],
   "source": []
  },
  {
   "cell_type": "markdown",
   "id": "0eb06f2d-e3ba-43f1-863e-845519630b5f",
   "metadata": {},
   "source": [
    "Answer 4:\n",
    "\n",
    "The `LookupError` class in Python is used as the base class for errors raised when something can’t be found. It serves as the base class for other specific exceptions, including `IndexError` and `KeyError`.\n",
    "\n",
    "`KeyError` is raised when a dictionary key is not found in the set of existing keys. For example:\n",
    "```python\n",
    "d = {'a': 1, 'b': 2}\n",
    "try:\n",
    "    value = d['c']\n",
    "except KeyError:\n",
    "    print(\"Key not found\")\n",
    "```\n",
    "\n",
    "`IndexError` is raised when a sequence subscript is out of range. For example:\n",
    "```python\n",
    "l = [1, 2, 3]\n",
    "try:\n",
    "    value = l[3]\n",
    "except IndexError:\n",
    "    print(\"Index out of range\")\n",
    "```"
   ]
  },
  {
   "cell_type": "code",
   "execution_count": null,
   "id": "a94eedef-5032-4627-80ab-f02cb5cbe3e9",
   "metadata": {},
   "outputs": [],
   "source": []
  },
  {
   "cell_type": "markdown",
   "id": "62bd9877-3d83-4fee-b0ae-688026b50e50",
   "metadata": {},
   "source": [
    "Answer 5:\n",
    "\n",
    "An `ImportError` is raised when an import statement has trouble successfully importing the specified module. Typically, such a problem is due to an invalid or incorrect path.\n",
    "\n",
    "`ModuleNotFoundError` is a subclass of `ImportError` that was introduced in Python 3.6. It is raised when a module that is specified in an import statement cannot be found. For example:\n",
    "```python\n",
    "try:\n",
    "    import non_existent_module\n",
    "except ModuleNotFoundError:\n",
    "    print(\"Module not found\")\n",
    "```"
   ]
  },
  {
   "cell_type": "code",
   "execution_count": null,
   "id": "6116140b-9fa4-4699-a292-e671492f4132",
   "metadata": {},
   "outputs": [],
   "source": []
  },
  {
   "cell_type": "markdown",
   "id": "2175432a-861c-4a46-ba32-06f40eb5ae66",
   "metadata": {},
   "source": [
    "Answer 6:\n",
    "\n",
    "Here are some best practices for exception handling in Python:\n",
    "\n",
    "1. **Design for failure**: Plan ahead by considering possible failures and designing your program to handle them gracefully. This means anticipating edge cases and implementing appropriate error handlers.\n",
    "\n",
    "2. **Use specific exceptions**: Catch specific exceptions rather than using a single except block to catch all exceptions.\n",
    "\n",
    "3. **Don't use exceptions for flow control**: Exceptions should be used for exceptional situations, not as part of normal program flow.\n",
    "\n",
    "4. **Handle exceptions at the appropriate level**: Handle exceptions at the level that knows how to handle them. For some exceptions, like programming errors (e.g. `IndexError`, `TypeError`, `NameError` etc.) exceptions are best left to the programmer/user, because \"handling\" them will just hide real bugs.\n",
    "\n",
    "5. **Don't catch every exception**: Avoid using a bare except clause that catches all exceptions. Instead, catch only the exceptions that you know how to handle."
   ]
  },
  {
   "cell_type": "code",
   "execution_count": null,
   "id": "1ad2c894-d610-47eb-ba05-cb48aad97fc7",
   "metadata": {},
   "outputs": [],
   "source": []
  }
 ],
 "metadata": {
  "kernelspec": {
   "display_name": "Python 3 (ipykernel)",
   "language": "python",
   "name": "python3"
  },
  "language_info": {
   "codemirror_mode": {
    "name": "ipython",
    "version": 3
   },
   "file_extension": ".py",
   "mimetype": "text/x-python",
   "name": "python",
   "nbconvert_exporter": "python",
   "pygments_lexer": "ipython3",
   "version": "3.10.8"
  }
 },
 "nbformat": 4,
 "nbformat_minor": 5
}
