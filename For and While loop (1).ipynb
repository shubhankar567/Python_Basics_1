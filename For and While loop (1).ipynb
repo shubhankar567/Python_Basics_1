{
 "cells": [
  {
   "cell_type": "code",
   "execution_count": 2,
   "id": "171c5ae2-f371-4bbc-9337-8d6aa193bc3f",
   "metadata": {},
   "outputs": [
    {
     "name": "stdout",
     "output_type": "stream",
     "text": [
      "The sum is 55\n",
      "The product is 3628800\n",
      "The sum is 55\n",
      "The product is 3628800\n"
     ]
    }
   ],
   "source": [
    "#Answer 1\n",
    "\"\"\"\n",
    "Use a for loop when you know the number of iterations beforehand, or when you want to loop over a collection or an iterable object.\n",
    "Use a while loop when you don’t know the number of iterations beforehand, or when you want to loop until a condition changes.\n",
    "\n",
    "Here are some examples of when to use each type of loop:\n",
    "If you want to print the numbers from 1 to 10, you can use a for loop with a range object:\n",
    "\n",
    "for i in range(1, 11):\n",
    "    print(i)\n",
    "\n",
    "\n",
    "If you want to print the elements of a list, but remove them one by one until the list is empty, you can use a while loop with the pop method:\n",
    "fruits = [\"apple\", \"banana\", \"cherry\"]\n",
    "\n",
    "while fruits:\n",
    "    fruit = fruits.pop()\n",
    "    print(fruit)\n",
    "\n",
    "\"\"\"\n",
    "\n",
    "#Answer 2\n",
    "#for loop for sum and product of 10 natural numbers\n",
    "prod = 1\n",
    "add = 0\n",
    "\n",
    "for i in range(1,11):\n",
    "    prod *= i\n",
    "    add += i\n",
    "\n",
    "print(\"The sum is\", add)\n",
    "print(\"The product is\", prod)\n",
    "\n",
    "\n",
    "#A while loop for sum and product\n",
    "prod = 1\n",
    "add = 0\n",
    "i = 1\n",
    "\n",
    "while i<=10:\n",
    "    prod *= i\n",
    "    add += i\n",
    "    i += 1\n",
    "\n",
    "print(\"The sum is\", add)\n",
    "print(\"The product is\", prod)  "
   ]
  },
  {
   "cell_type": "code",
   "execution_count": 3,
   "id": "4c6d32dd-4b20-46de-b84b-9857764decfb",
   "metadata": {},
   "outputs": [
    {
     "name": "stdin",
     "output_type": "stream",
     "text": [
      "Enter your consumptioon of electricity in units:  310\n"
     ]
    },
    {
     "name": "stdout",
     "output_type": "stream",
     "text": [
      "You have to pay 2250.0\n"
     ]
    }
   ],
   "source": [
    "#Answer 3\n",
    "consumption = int(input(\"Enter your consumptioon of electricity in units: \"))\n",
    "\n",
    "rem = consumption%100\n",
    "\n",
    "if consumption > 300:\n",
    "    price = 100*4.5 + 100*6 + 100*10 + rem*20\n",
    "elif consumption > 200:\n",
    "    price = 100*4.5 + 100*6 + rem*10\n",
    "elif consumption > 100:\n",
    "    price = 100*4.5 + rem*6\n",
    "else:\n",
    "    price = rem*4.5\n",
    "    \n",
    "print(f\"You have to pay {price}\")"
   ]
  },
  {
   "cell_type": "code",
   "execution_count": 8,
   "id": "243b6c90-5f55-48ac-865e-e7ea0d3f0dd3",
   "metadata": {},
   "outputs": [
    {
     "name": "stdout",
     "output_type": "stream",
     "text": [
      "Using for loop, the list is [2, 4, 5, 6, 8, 10, 12, 14, 15, 16, 18, 20, 22, 24, 25, 26, 28, 30, 32, 34, 35, 36, 38, 40, 42, 44, 45, 46, 48, 50, 52, 54, 55, 56, 58, 60, 62, 64, 65, 66, 68, 70, 72, 74, 75, 76, 78, 80, 82, 84, 85, 86, 88, 90, 92, 94, 95, 96, 98, 100]\n",
      "\n",
      "\n",
      "Using while loop, the list is [2, 4, 5, 6, 8, 10, 12, 14, 15, 16, 18, 20, 22, 24, 25, 26, 28, 30, 32, 34, 35, 36, 38, 40, 42, 44, 45, 46, 48, 50, 52, 54, 55, 56, 58, 60, 62, 64, 65, 66, 68, 70, 72, 74, 75, 76, 78, 80, 82, 84, 85, 86, 88, 90, 92, 94, 95, 96, 98, 100]\n"
     ]
    }
   ],
   "source": [
    "#Answer 4\n",
    "nums = range(1,101)\n",
    "list_cubes = []\n",
    "\n",
    "for i in nums:\n",
    "    cube = i**3\n",
    "    if cube%4 == 0 or cube%5 == 0:\n",
    "        list_cubes.append(i)\n",
    "        \n",
    "print(f\"Using for loop, the list is {list_cubes}\")\n",
    "print()\n",
    "print()\n",
    "\n",
    "#using while loop\n",
    "list_cubes = []\n",
    "i = 1\n",
    "\n",
    "while i<=100:\n",
    "    cube = i**3\n",
    "    if cube%4 == 0 or cube%5 == 0:\n",
    "        list_cubes.append(i)\n",
    "    i += 1\n",
    "print(f\"Using while loop, the list is {list_cubes}\")"
   ]
  },
  {
   "cell_type": "code",
   "execution_count": 10,
   "id": "55c721b7-64c2-4f12-8a5d-ae7226bdc51d",
   "metadata": {},
   "outputs": [
    {
     "name": "stdout",
     "output_type": "stream",
     "text": [
      "The number of vowels in the given string is 12\n"
     ]
    }
   ],
   "source": [
    "#Answer 5\n",
    "string = \"I want to become a data scientist\".lower()\n",
    "vowels = ['a', 'e', 'i', 'o', 'u']\n",
    "count = 0\n",
    "\n",
    "for i in string:\n",
    "    if i in vowels:\n",
    "        count += 1\n",
    "        \n",
    "print(f\"The number of vowels in the given string is {count}\")"
   ]
  },
  {
   "cell_type": "code",
   "execution_count": null,
   "id": "69799f34-ef71-45e0-8396-7c1ace1a0ffa",
   "metadata": {},
   "outputs": [],
   "source": []
  }
 ],
 "metadata": {
  "kernelspec": {
   "display_name": "Python 3 (ipykernel)",
   "language": "python",
   "name": "python3"
  },
  "language_info": {
   "codemirror_mode": {
    "name": "ipython",
    "version": 3
   },
   "file_extension": ".py",
   "mimetype": "text/x-python",
   "name": "python",
   "nbconvert_exporter": "python",
   "pygments_lexer": "ipython3",
   "version": "3.10.8"
  }
 },
 "nbformat": 4,
 "nbformat_minor": 5
}
