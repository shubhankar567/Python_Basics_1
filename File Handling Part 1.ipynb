{
 "cells": [
  {
   "cell_type": "markdown",
   "id": "9eaf3197-162a-4146-a19f-ebc2033bc504",
   "metadata": {},
   "source": [
    "Answer 1:\n",
    "\n",
    "The function used to open a file in Python is open()12. It takes two parameters: filename and mode13. The mode specifies how the file should be opened and what operations can be performed on it3.\n",
    "\n",
    "There are four different methods (modes) for opening a file1:\n",
    "\n",
    "“r” - Read - Default value. Opens a file for reading, error if the file does not exist1.\n",
    "“a” - Append - Opens a file for appending, creates the file if it does not exist1. Any data written to the file is added at the end of the file3.\n",
    "“w” - Write - Opens a file for writing, creates the file if it does not exist1. Any existing data in the file is erased and replaced by the new data3.\n",
    "“x” - Create - Creates the specified file, returns an error if the file exists1.\n",
    "In addition, you can specify if the file should be handled as binary or text mode1:\n",
    "\n",
    "“t” - Text - Default value. Text mode1. The file is opened as a text file and the data is encoded and decoded according to the default encoding of the system3.\n",
    "“b” - Binary - Binary mode (e.g. images)1. The file is opened as a binary file and the data is read and written as raw bytes3.\n",
    "\n",
    "For example, to open a file named “demofile.txt” for writing, you can use:"
   ]
  },
  {
   "cell_type": "code",
   "execution_count": 6,
   "id": "cd978fe5-c8de-4ec4-b823-fc1e3bf8cb04",
   "metadata": {},
   "outputs": [],
   "source": [
    "f = open(\"demofile.txt\", \"w\")\n",
    "#operations\n",
    "f.close()"
   ]
  },
  {
   "cell_type": "markdown",
   "id": "c57d770b-9da9-45d0-9031-848f63ac959e",
   "metadata": {},
   "source": [
    "There is another way."
   ]
  },
  {
   "cell_type": "code",
   "execution_count": 7,
   "id": "76283b7e-0965-495a-bc81-51171cd64b28",
   "metadata": {},
   "outputs": [],
   "source": [
    "with open(\"demofile.txt\", 'r') as f:\n",
    "    data = f.read()"
   ]
  },
  {
   "cell_type": "code",
   "execution_count": null,
   "id": "dd376d4e-78a8-46fa-8a7a-2050ceb19bf2",
   "metadata": {},
   "outputs": [],
   "source": []
  },
  {
   "cell_type": "markdown",
   "id": "265443d3-034e-4f13-a312-d8145c109a9a",
   "metadata": {},
   "source": [
    "Answer 2:\n",
    "\n",
    "The close() function is used to close an open file. \n",
    "\n",
    "It is important to close a file because:\n",
    "- It frees up the system resources that were allocated to the file.\n",
    "- It ensures that all the data written to the file is flushed from the buffer and saved to the disk.\n",
    "- It reduces the risk of being unwarrantedly modified or read by other processes or programs.\n",
    "- It avoids errors such as “Too many files open” or \"File already in use\"."
   ]
  },
  {
   "cell_type": "code",
   "execution_count": null,
   "id": "f52ba41c-fdaa-4409-8224-477a4a049d82",
   "metadata": {},
   "outputs": [],
   "source": []
  },
  {
   "cell_type": "code",
   "execution_count": 11,
   "id": "329cd3bc-5695-4279-9c76-e1f3568a7bcc",
   "metadata": {},
   "outputs": [
    {
     "name": "stdout",
     "output_type": "stream",
     "text": [
      "I want to become a Data Scientist\n"
     ]
    }
   ],
   "source": [
    "#Answer 3:\n",
    "import logging\n",
    "logging.basicConfig(filename=\"Logging_details.log\", level = logging.DEBUG)    \n",
    "\n",
    "#Creating a file named demo.txt\n",
    "f = open('demo.txt', 'w')\n",
    "f.write(\"I want to become a Data Scientist\")\n",
    "f.close()\n",
    "\n",
    "#Now, reading that file\n",
    "f = open('demo.txt', 'r')\n",
    "data = f.read()\n",
    "logging.info(data)     #logging the data as told in the lecture\n",
    "print(data)\n",
    "f.close()"
   ]
  },
  {
   "cell_type": "code",
   "execution_count": null,
   "id": "e1d85022-1a55-431c-843d-22644a340045",
   "metadata": {},
   "outputs": [],
   "source": []
  },
  {
   "cell_type": "markdown",
   "id": "87c4ccc8-87ab-4c21-ab87-49bdf7fd8a62",
   "metadata": {},
   "source": [
    "Answer 4:\n",
    "\n",
    "Sure! Here's an explanation of the three methods in Python:\n",
    "\n",
    "`read()` reads the entire content of a file as a string.\n",
    "\n",
    "`readline()` reads the next line of a file, returning it as a string.\n",
    "\n",
    "`readlines()` reads all the lines of a file and returns them as a list of strings.\n",
    "\n",
    "Here's an example that demonstrates the use of these methods:\n",
    "\n",
    "```python\n",
    "with open('demo.txt', 'r') as f:\n",
    "    content = f.read()\n",
    "    print(content)\n",
    "\n",
    "with open('demo.txt', 'r') as f:\n",
    "    line = f.readline()\n",
    "    while line:\n",
    "        print(line)\n",
    "        line = f.readline()\n",
    "\n",
    "with open('demo.txt', 'r') as f:\n",
    "    lines = f.readlines()\n",
    "    for line in lines:\n",
    "        print(line)\n",
    "```"
   ]
  },
  {
   "cell_type": "code",
   "execution_count": null,
   "id": "1b69f8e7-be1b-4ea0-83fb-429f8f8930bd",
   "metadata": {},
   "outputs": [],
   "source": []
  },
  {
   "cell_type": "markdown",
   "id": "37cb6154-e182-4018-be9e-2f81478d4e25",
   "metadata": {},
   "source": [
    "Answer 5:\n",
    "\n",
    "The `with` statement is used with `open()` to ensure that the file is properly closed after its suite finishes, even if an exception is raised on the way. It's a good practice to use the `with` statement whenever you're working with files.\n",
    "\n",
    "The advantage of using the `with` statement and `open()` together is that it makes your code more readable and less error-prone. It automatically takes care of closing the file once you're done with it, so you don't have to remember to do it yourself.\n",
    "\n",
    "Here's an example:\n",
    "\n",
    "```python\n",
    "with open('file.txt', 'r') as f:\n",
    "    content = f.read()\n",
    "    print(content)\n",
    "```\n",
    "\n",
    "In this example, the file `file.txt` is opened for reading and its content is stored in the variable `content`. Once the suite of the `with` statement finishes (in this case, after the `print` statement), the file is automatically closed."
   ]
  },
  {
   "cell_type": "code",
   "execution_count": null,
   "id": "65bc61b5-0b6c-4489-b2e6-c48268ccfee1",
   "metadata": {},
   "outputs": [],
   "source": []
  },
  {
   "cell_type": "markdown",
   "id": "ff95da6a-0592-490d-a3af-ce97f84159fa",
   "metadata": {},
   "source": [
    "Answer 6:\n",
    "    \n",
    "Sure! Here's an explanation of the two methods in Python:\n",
    "\n",
    "`write()` writes a string to a file. If the file doesn't exist, it will be created. If it does exist, its content will be overwritten.\n",
    "\n",
    "`writelines()` writes a list of strings to a file. The strings are concatenated without any separators.\n",
    "\n",
    "Here's an example that demonstrates the use of these methods:\n",
    "\n",
    "```python\n",
    "with open('file.txt', 'w') as f:\n",
    "    f.write('Hello, World!')\n",
    "\n",
    "with open('file.txt', 'w') as f:\n",
    "    lines = ['Hello,', 'World!']\n",
    "    f.writelines(lines)\n",
    "```\n",
    "\n",
    "In the first example, the string `'Hello, World!'` is written to the file `file.txt`. In the second example, the list of strings `['Hello,', 'World!']` is written to the file `file.txt` as `'Hello,World!'`."
   ]
  },
  {
   "cell_type": "code",
   "execution_count": null,
   "id": "79a62ad4-30dd-441f-a265-b43f253e6f9f",
   "metadata": {},
   "outputs": [],
   "source": []
  }
 ],
 "metadata": {
  "kernelspec": {
   "display_name": "Python 3 (ipykernel)",
   "language": "python",
   "name": "python3"
  },
  "language_info": {
   "codemirror_mode": {
    "name": "ipython",
    "version": 3
   },
   "file_extension": ".py",
   "mimetype": "text/x-python",
   "name": "python",
   "nbconvert_exporter": "python",
   "pygments_lexer": "ipython3",
   "version": "3.10.8"
  }
 },
 "nbformat": 4,
 "nbformat_minor": 5
}
