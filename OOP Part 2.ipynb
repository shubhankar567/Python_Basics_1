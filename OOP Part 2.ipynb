{
 "cells": [
  {
   "cell_type": "markdown",
   "id": "649319f9-4e20-4030-b6b3-080e44e80043",
   "metadata": {},
   "source": [
    "Answer 1:\n",
    "\n",
    "Abstraction in object-oriented programming (OOP) is a concept that focuses on representing essential features and behaviors of objects, while hiding unnecessary details and complexity. It allows us to create simplified models of real-world entities and interact with them without worrying about the internal implementation.\n",
    "\n",
    "Abstraction is achieved through the use of abstract classes and interfaces. An abstract class is a class that cannot be instantiated and serves as a blueprint for subclasses. It may contain abstract methods, which are methods without any implementation. Subclasses of an abstract class must provide implementations for all the abstract methods.\n",
    "\n",
    "For example:"
   ]
  },
  {
   "cell_type": "code",
   "execution_count": 1,
   "id": "191184cd-9ec7-4e8d-9841-709d81954d9e",
   "metadata": {},
   "outputs": [
    {
     "name": "stdout",
     "output_type": "stream",
     "text": [
      "Bark!\n",
      "Meow!\n",
      "Eating...\n",
      "Eating...\n"
     ]
    }
   ],
   "source": [
    "from abc import ABC, abstractmethod\n",
    "\n",
    "class Animal(ABC):  # Abstract class\n",
    "\n",
    "    @abstractmethod\n",
    "    def sound(self):\n",
    "        pass\n",
    "\n",
    "    def eat(self):\n",
    "        print(\"Eating...\")\n",
    "\n",
    "class Dog(Animal):\n",
    "\n",
    "    def sound(self):\n",
    "        print(\"Bark!\")\n",
    "\n",
    "class Cat(Animal):\n",
    "\n",
    "    def sound(self):\n",
    "        print(\"Meow!\")\n",
    "\n",
    "# Creating objects\n",
    "dog = Dog()\n",
    "cat = Cat()\n",
    "\n",
    "# Calling methods\n",
    "dog.sound()  # Output: Bark!\n",
    "cat.sound()  # Output: Meow!\n",
    "dog.eat()   # Output: Eating...\n",
    "cat.eat()   # Output: Eating...\n"
   ]
  },
  {
   "cell_type": "code",
   "execution_count": null,
   "id": "d4bf9b61-42f8-4717-996c-c573a3342da2",
   "metadata": {},
   "outputs": [],
   "source": []
  },
  {
   "cell_type": "markdown",
   "id": "80ee8563-b5aa-4b27-8fa7-a2e01441c5ea",
   "metadata": {},
   "source": [
    "Answer 2:\n",
    "\n",
    "Abstraction and encapsulation are two fundamental concepts in object-oriented programming (OOP). They are related but not the same.\n",
    "\n",
    "Abstraction is the process of hiding the unnecessary details from the user and showing only the essential features. It helps to reduce the complexity and increase the efficiency of the program. Abstraction can be achieved by using abstract classes and interfaces in Python.\n",
    "\n",
    "Encapsulation is the process of wrapping data and methods within a single unit. It helps to protect the data from being accessed or modified by other objects. Encapsulation can be achieved by using public, protected, and private access modifiers in Python.\n",
    "\n",
    "Here is an example of abstraction and encapsulation in Python:"
   ]
  },
  {
   "cell_type": "code",
   "execution_count": 2,
   "id": "ceb375e9-eb49-4de7-a27c-d3d992b0b642",
   "metadata": {},
   "outputs": [
    {
     "name": "stdout",
     "output_type": "stream",
     "text": [
      "Max says woof!\n",
      "Lily says meow!\n"
     ]
    }
   ],
   "source": [
    "from abc import ABC, abstractmethod\n",
    "# An abstract class for animals\n",
    "class Animal(ABC):\n",
    "    # An abstract method for making sound\n",
    "    @abstractmethod\n",
    "    def make_sound(self):\n",
    "        pass\n",
    "\n",
    "# A subclass for dogs that inherits from Animal\n",
    "class Dog(Animal):\n",
    "    # A private attribute for name\n",
    "    def __init__(self, name):\n",
    "        self.__name = name\n",
    "\n",
    "    # A public method for getting the name\n",
    "    def get_name(self):\n",
    "        return self.__name\n",
    "\n",
    "    # A public method for setting the name\n",
    "    def set_name(self, name):\n",
    "        self.__name = name\n",
    "\n",
    "    # An implementation of the abstract method\n",
    "    def make_sound(self):\n",
    "        print(self.__name + \" says woof!\")\n",
    "\n",
    "# A subclass for cats that inherits from Animal\n",
    "class Cat(Animal):\n",
    "    # A private attribute for name\n",
    "    def __init__(self, name):\n",
    "        self.__name = name\n",
    "\n",
    "    # A public method for getting the name\n",
    "    def get_name(self):\n",
    "        return self.__name\n",
    "\n",
    "    # A public method for setting the name\n",
    "    def set_name(self, name):\n",
    "        self.__name = name\n",
    "\n",
    "    # An implementation of the abstract method\n",
    "    def make_sound(self):\n",
    "        print(self.__name + \" says meow!\")\n",
    "\n",
    "# Creating objects of Dog and Cat classes\n",
    "dog = Dog(\"Rex\")\n",
    "cat = Cat(\"Luna\")\n",
    "\n",
    "# Calling the public methods of the objects\n",
    "dog.get_name()\n",
    "dog.set_name(\"Max\")\n",
    "dog.make_sound()\n",
    "cat.get_name()\n",
    "cat.set_name(\"Lily\")\n",
    "cat.make_sound()\n"
   ]
  },
  {
   "cell_type": "markdown",
   "id": "9f5e4115-9d8d-4d6a-b245-bd1d289b3837",
   "metadata": {},
   "source": [
    "In this example, we have used abstraction to define a general class for animals that has an abstract method for making sound. We have also used encapsulation to hide the name attribute of each animal and provide public methods for accessing and modifying it. We have also used inheritance to create subclasses for dogs and cats that implement the abstract method according to their specific behavior."
   ]
  },
  {
   "cell_type": "code",
   "execution_count": null,
   "id": "970d70a4-93c2-4f06-909c-2ae28b1f2f76",
   "metadata": {},
   "outputs": [],
   "source": []
  },
  {
   "cell_type": "markdown",
   "id": "f56680de-dfaa-4128-9844-85d0377c8797",
   "metadata": {},
   "source": [
    "Answer 3:\n",
    "\n",
    "The abc module in Python provides the infrastructure for defining abstract base classes (ABCs) in Python. ABCs are classes that have at least one abstract method, which is a method that is declared but not implemented. ABCs cannot be instantiated, but they can be subclassed by concrete classes that implement the abstract methods.\n",
    "\n",
    "The abc module also provides the @abstractmethod decorator to mark a method as abstract and the @abstractproperty decorator to mark a property as abstract.\n",
    "\n",
    "The abc module is used to create a standardized way to test whether an object adheres to a given specification or interface. It can also prevent any attempt to instantiate a subclass that doesn’t override all the abstract methods of the ABC. Furthermore, using the abc module, a class can derive identity from another class without any object inheritance by registering itself as a virtual subclass of an ABC.\n",
    "\n",
    "Here is an example of using the abc module to create an ABC for shapes and two concrete subclasses for circles and rectangles:"
   ]
  },
  {
   "cell_type": "code",
   "execution_count": null,
   "id": "6426a654-97c4-4389-92ab-97b9a1448308",
   "metadata": {},
   "outputs": [],
   "source": []
  },
  {
   "cell_type": "markdown",
   "id": "8e35a757-a59e-4df5-9831-d85dcdbb95ab",
   "metadata": {},
   "source": [
    "Answer 4:\n",
    "\n",
    "We can achieve data abstraction in Python by using abstract base classes (ABCs). ABCs are classes that have at least one abstract method, which is a method that is declared but not implemented.\n",
    "\n",
    "To create an ABC in Python, we need to use the abc module that provides the infrastructure for defining custom ABCs. We can also use the @abstractmethod decorator to mark a method as abstract.\n",
    "\n",
    "Here is an example of data abstraction in Python using the abc module:"
   ]
  },
  {
   "cell_type": "code",
   "execution_count": 3,
   "id": "e4fb7baa-6bf1-40ae-b05d-4d9570b3f8d4",
   "metadata": {},
   "outputs": [
    {
     "name": "stdout",
     "output_type": "stream",
     "text": [
      "78.5\n",
      "31.400000000000002\n",
      "200\n",
      "60\n"
     ]
    }
   ],
   "source": [
    "from abc import ABC, abstractmethod\n",
    "\n",
    "# An abstract class for shapes\n",
    "class Shape(ABC):\n",
    "    # An abstract method for calculating the area\n",
    "    @abstractmethod\n",
    "    def area(self):\n",
    "        pass\n",
    "\n",
    "    # An abstract method for calculating the perimeter\n",
    "    @abstractmethod\n",
    "    def perimeter(self):\n",
    "        pass\n",
    "\n",
    "# A concrete class for circles that inherits from Shape\n",
    "class Circle(Shape):\n",
    "    # A constructor that takes the radius as an argument\n",
    "    def __init__(self, radius):\n",
    "        self.radius = radius\n",
    "\n",
    "    # An implementation of the abstract method for area\n",
    "    def area(self):\n",
    "        return 3.14 * self.radius ** 2\n",
    "\n",
    "    # An implementation of the abstract method for perimeter\n",
    "    def perimeter(self):\n",
    "        return 2 * 3.14 * self.radius\n",
    "\n",
    "# A concrete class for rectangles that inherits from Shape\n",
    "class Rectangle(Shape):\n",
    "    # A constructor that takes the length and width as arguments\n",
    "    def __init__(self, length, width):\n",
    "        self.length = length\n",
    "        self.width = width\n",
    "\n",
    "    # An implementation of the abstract method for area\n",
    "    def area(self):\n",
    "        return self.length * self.width\n",
    "\n",
    "    # An implementation of the abstract method for perimeter\n",
    "    def perimeter(self):\n",
    "        return 2 * (self.length + self.width)\n",
    "\n",
    "# Creating objects of Circle and Rectangle classes\n",
    "circle = Circle(5)\n",
    "rectangle = Rectangle(10, 20)\n",
    "\n",
    "# Calling the methods of the objects\n",
    "print(circle.area())\n",
    "print(circle.perimeter())\n",
    "print(rectangle.area())\n",
    "print(rectangle.perimeter())\n"
   ]
  },
  {
   "cell_type": "code",
   "execution_count": null,
   "id": "69b379ec-2af1-4e98-a134-893e62d227ce",
   "metadata": {},
   "outputs": [],
   "source": []
  },
  {
   "cell_type": "markdown",
   "id": "6b16f572-d28d-470f-8ded-babbb3c2a610",
   "metadata": {},
   "source": [
    "Answer 5:\n",
    "\n",
    "No, we cannot create an instance of an abstract class. \n",
    "\n",
    "An abstract class is meant to be a blueprint or a template for other classes that can inherit from it and provide the implementation for the abstract methods. An abstract class cannot be instantiated because it is incomplete and does not provide the full functionality that an object requires. \n",
    "\n",
    "If we try to create an instance of an abstract class, we will get a TypeError exception."
   ]
  }
 ],
 "metadata": {
  "kernelspec": {
   "display_name": "Python 3 (ipykernel)",
   "language": "python",
   "name": "python3"
  },
  "language_info": {
   "codemirror_mode": {
    "name": "ipython",
    "version": 3
   },
   "file_extension": ".py",
   "mimetype": "text/x-python",
   "name": "python",
   "nbconvert_exporter": "python",
   "pygments_lexer": "ipython3",
   "version": "3.10.8"
  }
 },
 "nbformat": 4,
 "nbformat_minor": 5
}
