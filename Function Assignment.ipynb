{
 "cells": [
  {
   "cell_type": "code",
   "execution_count": 1,
   "id": "2c5e1204-89a3-4181-8f5e-9f3bb6aee91c",
   "metadata": {},
   "outputs": [],
   "source": [
    "#Answer 1\n",
    "# def keyword is used to create the function\n",
    "\n",
    "def odd(a, b):\n",
    "    return [i for i in range(a, b+1) if i%2 !=0]"
   ]
  },
  {
   "cell_type": "code",
   "execution_count": 2,
   "id": "efe376da-edf3-4009-a1cb-30bc4ae08f58",
   "metadata": {},
   "outputs": [
    {
     "name": "stdout",
     "output_type": "stream",
     "text": [
      "[1, 3, 5, 7, 9, 11, 13, 15, 17, 19, 21, 23, 25]\n"
     ]
    }
   ],
   "source": [
    "list_odd = odd(1,25)\n",
    "print(list_odd)"
   ]
  },
  {
   "cell_type": "code",
   "execution_count": 3,
   "id": "99089cde-a05c-4967-8c29-1e79084989cb",
   "metadata": {},
   "outputs": [],
   "source": [
    "#Answer 2\n",
    "\"\"\"\n",
    "*args and **kwargs keywords are used to make the function accept dynamic input arguments.\n",
    "It means the number of arguments to be passed in a function is not pre-fixed. \n",
    "Let us see an example: \n",
    "\"\"\"\n",
    "\n",
    "def test1(*args):\n",
    "    return args\n",
    "\n",
    "def test2(**kwargs):\n",
    "    return kwargs"
   ]
  },
  {
   "cell_type": "code",
   "execution_count": 5,
   "id": "07620b3c-d58f-46cc-891e-9f507e4d77c2",
   "metadata": {},
   "outputs": [
    {
     "data": {
      "text/plain": [
       "(1, 2, 3, 4, 5, 6, 7)"
      ]
     },
     "execution_count": 5,
     "metadata": {},
     "output_type": "execute_result"
    }
   ],
   "source": [
    "test1(1,2,3,4,5,6,7)"
   ]
  },
  {
   "cell_type": "code",
   "execution_count": 6,
   "id": "5a7a36ba-803c-4e11-bc08-90a88edab9e7",
   "metadata": {},
   "outputs": [
    {
     "data": {
      "text/plain": [
       "{'a': 56, 'b': 'shubh', 'c': 4.0}"
      ]
     },
     "execution_count": 6,
     "metadata": {},
     "output_type": "execute_result"
    }
   ],
   "source": [
    "test2(a=56, b=\"shubh\", c = 4.0)"
   ]
  },
  {
   "cell_type": "code",
   "execution_count": 7,
   "id": "e93556b6-48af-4e95-830f-51420cd26724",
   "metadata": {},
   "outputs": [
    {
     "name": "stdout",
     "output_type": "stream",
     "text": [
      "2\n",
      "4\n",
      "6\n",
      "8\n",
      "10\n"
     ]
    }
   ],
   "source": [
    "#Answer 3\n",
    "\"\"\"\n",
    "An iterator in Python is an object that is used to iterate over iterable objects like lists, tuples, dicts, and sets. \n",
    "The Python iterators object is initialized using the iter() method. \n",
    "It uses the next() method for iteration. \n",
    "The iter() method is called for the initialization of an iterator. This returns an iterator object. \n",
    "The next() method returns the next value for the iterable.\n",
    "\"\"\"\n",
    "#printing first 5 values from the given list:\n",
    "mylist = [2,4,6,8,10,12,14,16,18,20]\n",
    "myiter = iter(mylist) # initialize the iterator object\n",
    "for i in range(5): # loop five times\n",
    "    print(next(myiter)) # print the next value of the iterator\n"
   ]
  },
  {
   "cell_type": "code",
   "execution_count": 9,
   "id": "619e453e-b5be-4fc0-9dd2-c67d4d4c079d",
   "metadata": {},
   "outputs": [
    {
     "name": "stdout",
     "output_type": "stream",
     "text": [
      "0\n",
      "1\n",
      "1\n",
      "2\n",
      "3\n",
      "5\n",
      "8\n"
     ]
    }
   ],
   "source": [
    "#Answer 4\n",
    "\"\"\"\n",
    "A generator function in Python is a function that returns an iterator that produces a sequence of values when iterated over. \n",
    "A generator function is defined like a normal function, but whenever it needs to generate a value, it does so with the yield keyword rather than return. \n",
    "If the body of a def contains yield, the function automatically becomes a generator function.\n",
    "\n",
    "The yield keyword is used to produce a value from the generator and pause the generator function’s execution until the next value is requested. \n",
    "The yield keyword also allows us to create a generator expression, which is a concise way to create a generator object.\n",
    "\"\"\"\n",
    "\n",
    "#An example of a generator function\n",
    "def fibonacci(limit):\n",
    "    # initialize the first two Fibonacci numbers\n",
    "    a = 0\n",
    "    b = 1\n",
    "    # loop until the limit is reached\n",
    "    while a < limit:\n",
    "        # yield the current Fibonacci number\n",
    "        yield a\n",
    "        # update the next two Fibonacci numbers\n",
    "        a, b = b, a + b\n",
    "\n",
    "\n",
    "#Printing fibonacci upto the number 10 or less than 10\n",
    "for n in fibonacci(10):\n",
    "    print(n)\n"
   ]
  },
  {
   "cell_type": "code",
   "execution_count": 10,
   "id": "a657a8ef-10b6-4cf3-a17f-541ce94331b1",
   "metadata": {},
   "outputs": [
    {
     "name": "stdout",
     "output_type": "stream",
     "text": [
      "2\n",
      "3\n",
      "5\n",
      "7\n",
      "11\n",
      "13\n",
      "17\n",
      "19\n",
      "23\n",
      "29\n",
      "31\n",
      "37\n",
      "41\n",
      "43\n",
      "47\n",
      "53\n",
      "59\n",
      "61\n",
      "67\n",
      "71\n"
     ]
    }
   ],
   "source": [
    "#Answer 5\n",
    "def prime_generator(limit):\n",
    "    # initialize the current number\n",
    "    n = 2\n",
    "    # loop until the limit is reached\n",
    "    while n < limit:\n",
    "        # assume n is prime initially\n",
    "        is_prime = True\n",
    "        # check if n is divisible by any number from 2 to sqrt(n)\n",
    "        for i in range(2, int(n ** 0.5) + 1):\n",
    "            if n % i == 0:\n",
    "                # n is not prime, break the loop\n",
    "                is_prime = False\n",
    "                break\n",
    "        # if n is prime, yield it\n",
    "        if is_prime:\n",
    "            yield n\n",
    "        # increment n by 1\n",
    "        n += 1\n",
    "\n",
    "        \n",
    "# create the generator object\n",
    "primes = prime_generator(1000)\n",
    "# loop 20 times\n",
    "for i in range(20):\n",
    "    # print the next prime number\n",
    "    print(next(primes))\n"
   ]
  },
  {
   "cell_type": "code",
   "execution_count": 13,
   "id": "72d02c1e-ed9d-4e4d-98e7-6e8a64497ca0",
   "metadata": {},
   "outputs": [
    {
     "name": "stdout",
     "output_type": "stream",
     "text": [
      "0\n",
      "1\n",
      "1\n",
      "2\n",
      "3\n",
      "5\n",
      "8\n",
      "13\n",
      "21\n",
      "34\n"
     ]
    }
   ],
   "source": [
    "#Answer 6\n",
    "a, b = 0, 1\n",
    "count = 0\n",
    "\n",
    "while count < 10:\n",
    "    print(a)\n",
    "    a, b = b, a+b\n",
    "    count += 1"
   ]
  },
  {
   "cell_type": "code",
   "execution_count": 14,
   "id": "6ae64aa6-e9c3-49d8-8e7a-3743a8f52d87",
   "metadata": {},
   "outputs": [
    {
     "name": "stdout",
     "output_type": "stream",
     "text": [
      "['p', 'w', 's', 'k', 'i', 'l', 'l', 's']\n"
     ]
    }
   ],
   "source": [
    "#Answer 7\n",
    "myString = 'pwskills'\n",
    "l = [i for i in myString]\n",
    "print(l)"
   ]
  },
  {
   "cell_type": "code",
   "execution_count": 16,
   "id": "6b7be5dc-bf65-4f4f-bc9b-04d50ffc4e19",
   "metadata": {},
   "outputs": [
    {
     "name": "stdin",
     "output_type": "stream",
     "text": [
      "Enter any number in Integer:  123454321\n"
     ]
    },
    {
     "name": "stdout",
     "output_type": "stream",
     "text": [
      "123454321 is a palindrome number.\n"
     ]
    }
   ],
   "source": [
    "#Answer 8\n",
    "def palindrome(num):\n",
    "    pal = 0\n",
    "    while num > 0:\n",
    "        rem = num%10\n",
    "        pal = pal*10+rem\n",
    "        num //= 10\n",
    "    return pal\n",
    "\n",
    "num = int(input(\"Enter any number in Integer: \"))\n",
    "reverse = palindrome(num)\n",
    "\n",
    "if num==reverse:\n",
    "    print(f\"{num} is a palindrome number.\")\n",
    "else:\n",
    "    print(f\"{num} is not a plaindrome number.\")"
   ]
  },
  {
   "cell_type": "code",
   "execution_count": 19,
   "id": "0b77afa3-f6b2-4402-a229-d740106c9d00",
   "metadata": {},
   "outputs": [],
   "source": [
    "#Answer 9\n",
    "def odd(limit):\n",
    "    return [i for i in range(1, limit+1) if i%2 != 0]\n"
   ]
  },
  {
   "cell_type": "code",
   "execution_count": 20,
   "id": "2d0d1992-adfe-4e65-a77d-a9a16c99b60d",
   "metadata": {},
   "outputs": [
    {
     "data": {
      "text/plain": [
       "[1,\n",
       " 3,\n",
       " 5,\n",
       " 7,\n",
       " 9,\n",
       " 11,\n",
       " 13,\n",
       " 15,\n",
       " 17,\n",
       " 19,\n",
       " 21,\n",
       " 23,\n",
       " 25,\n",
       " 27,\n",
       " 29,\n",
       " 31,\n",
       " 33,\n",
       " 35,\n",
       " 37,\n",
       " 39,\n",
       " 41,\n",
       " 43,\n",
       " 45,\n",
       " 47,\n",
       " 49,\n",
       " 51,\n",
       " 53,\n",
       " 55,\n",
       " 57,\n",
       " 59,\n",
       " 61,\n",
       " 63,\n",
       " 65,\n",
       " 67,\n",
       " 69,\n",
       " 71,\n",
       " 73,\n",
       " 75,\n",
       " 77,\n",
       " 79,\n",
       " 81,\n",
       " 83,\n",
       " 85,\n",
       " 87,\n",
       " 89,\n",
       " 91,\n",
       " 93,\n",
       " 95,\n",
       " 97,\n",
       " 99]"
      ]
     },
     "execution_count": 20,
     "metadata": {},
     "output_type": "execute_result"
    }
   ],
   "source": [
    "odd(100)"
   ]
  },
  {
   "cell_type": "code",
   "execution_count": null,
   "id": "39c0125e-18aa-4d5d-b5a7-0224b49c6ea8",
   "metadata": {},
   "outputs": [],
   "source": []
  }
 ],
 "metadata": {
  "kernelspec": {
   "display_name": "Python 3 (ipykernel)",
   "language": "python",
   "name": "python3"
  },
  "language_info": {
   "codemirror_mode": {
    "name": "ipython",
    "version": 3
   },
   "file_extension": ".py",
   "mimetype": "text/x-python",
   "name": "python",
   "nbconvert_exporter": "python",
   "pygments_lexer": "ipython3",
   "version": "3.10.8"
  }
 },
 "nbformat": 4,
 "nbformat_minor": 5
}
