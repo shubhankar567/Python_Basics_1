{
 "cells": [
  {
   "cell_type": "code",
   "execution_count": 2,
   "id": "adba5e3d-83b4-4f1a-84ba-5e6c3fe21868",
   "metadata": {},
   "outputs": [
    {
     "name": "stdin",
     "output_type": "stream",
     "text": [
      "Enter the marks in %:  64.57\n"
     ]
    },
    {
     "name": "stdout",
     "output_type": "stream",
     "text": [
      "C\n"
     ]
    }
   ],
   "source": [
    "#Answer 1\n",
    "marks = float(input(\"Enter the marks in %: \"))\n",
    "\n",
    "if marks > 90:\n",
    "    grades = 'A'\n",
    "elif marks > 80:\n",
    "    grades = 'B'\n",
    "elif marks >= 60:\n",
    "    grades = 'C'\n",
    "else:\n",
    "    grades = 'D'\n",
    "    \n",
    "print(grades)"
   ]
  },
  {
   "cell_type": "code",
   "execution_count": 3,
   "id": "2efe6dec-6783-46f3-84fb-bb49b2fd6acf",
   "metadata": {},
   "outputs": [
    {
     "name": "stdin",
     "output_type": "stream",
     "text": [
      "Enter the cost price of the bike (in Rs.):  60000\n"
     ]
    },
    {
     "name": "stdout",
     "output_type": "stream",
     "text": [
      "The tax will be 6000.0\n"
     ]
    }
   ],
   "source": [
    "#Answer 2\n",
    "cost = float(input(\"Enter the cost price of the bike (in Rs.): \"))\n",
    "\n",
    "if cost > 100000:\n",
    "    tax = 0.15*cost\n",
    "elif cost > 50000:\n",
    "    tax = 0.10*cost\n",
    "else:\n",
    "    tax = 0.05*cost\n",
    "    \n",
    "print(f\"The tax will be {tax}\")"
   ]
  },
  {
   "cell_type": "code",
   "execution_count": 6,
   "id": "26f107df-137e-4cbf-a4b8-88794f572053",
   "metadata": {},
   "outputs": [
    {
     "name": "stdin",
     "output_type": "stream",
     "text": [
      "Enter the city name:  Jaipur\n"
     ]
    },
    {
     "name": "stdout",
     "output_type": "stream",
     "text": [
      "Jal Mahal\n"
     ]
    }
   ],
   "source": [
    "#Answer 3\n",
    "city = input(\"Enter the city name: \").lower()\n",
    "\n",
    "if city == \"delhi\":\n",
    "    monument = \"Red Fort\"\n",
    "elif city == \"agra\":\n",
    "    monument = \"Taj Mahal\"\n",
    "elif city == \"jaipur\":\n",
    "    monument = \"Jal Mahal\"\n",
    "else:\n",
    "    monument = \"Try again with different city name\"\n",
    "\n",
    "print(monument)"
   ]
  },
  {
   "cell_type": "code",
   "execution_count": 7,
   "id": "4fbf09a6-93c5-4fbd-866a-4acfe9914de1",
   "metadata": {},
   "outputs": [
    {
     "name": "stdout",
     "output_type": "stream",
     "text": [
      "3\n"
     ]
    }
   ],
   "source": [
    "#Answer 4\n",
    "count = 0\n",
    "for i in range(1,11):\n",
    "    if i%3 == 0:\n",
    "        count += 1\n",
    "        \n",
    "print(count)"
   ]
  },
  {
   "cell_type": "code",
   "execution_count": 9,
   "id": "25e3a092-5e80-4431-a09a-621ba1160ee1",
   "metadata": {},
   "outputs": [
    {
     "name": "stdout",
     "output_type": "stream",
     "text": [
      "* \n",
      "* * \n",
      "* * * \n",
      "* * * * \n",
      "* * * * * \n",
      "\n",
      "\n",
      "* * * * * \n",
      "* * * * * \n",
      "* * * * * \n",
      "* * * * * \n",
      "* * * * * \n",
      "\n",
      "\n",
      "        1 \n",
      "      1 2 1 \n",
      "    1 2 3 2 1 \n",
      "  1 2 3 4 3 2 1 \n",
      "1 2 3 4 5 4 3 2 1 \n"
     ]
    }
   ],
   "source": [
    "#Answer 5\n",
    "\"\"\"A while loop is used when we have to execute a block of statements repeatedly until a given condition is satisfied. \n",
    "When the condition becomes false, the loop terminates and the control moves to the next statement after the loop.\n",
    "\n",
    "Some examples of using while loops in Python are:\n",
    "\n",
    "Printing numbers from 1 to 10:\n",
    "i = 1\n",
    "while i <= 10:\n",
    "    print(i)\n",
    "    i = i + 1\n",
    "\"\"\"\n",
    "\n",
    "#Answer 6\n",
    "#Printing a right-angled triangle of stars:\n",
    "i = 1\n",
    "while i <= 5: # outer loop\n",
    "    j = 1\n",
    "    while j <= i: # inner loop\n",
    "        print(\"*\", end=\" \")\n",
    "        j = j + 1\n",
    "    print()\n",
    "    i = i + 1\n",
    "print()\n",
    "print()\n",
    "#Printing a square of stars:\n",
    "i = 1\n",
    "while i <= 5: # outer loop\n",
    "    j = 1\n",
    "    while j <= 5: # inner loop\n",
    "        print(\"*\", end=\" \")\n",
    "        j = j + 1\n",
    "    print()\n",
    "    i = i + 1\n",
    "print()\n",
    "print()\n",
    "#Printing a pyramid of numbers:\n",
    "i = 1\n",
    "n = 5 # number of rows\n",
    "while i <= n: # outer loop\n",
    "    j = 1\n",
    "    while j <= n - i: # inner loop for spaces\n",
    "        print(\" \", end=\" \")\n",
    "        j = j + 1\n",
    "    k = 1\n",
    "    while k <= i: # inner loop for numbers\n",
    "        print(k, end=\" \")\n",
    "        k = k + 1\n",
    "    l = i - 1\n",
    "    while l >= 1: # inner loop for numbers in reverse order\n",
    "        print(l, end=\" \")\n",
    "        l = l - 1\n",
    "    print()\n",
    "    i = i + 1\n"
   ]
  },
  {
   "cell_type": "code",
   "execution_count": null,
   "id": "77010b94-630d-4c21-92c5-246c917083d1",
   "metadata": {},
   "outputs": [],
   "source": [
    "#Answer 7"
   ]
  }
 ],
 "metadata": {
  "kernelspec": {
   "display_name": "Python 3 (ipykernel)",
   "language": "python",
   "name": "python3"
  },
  "language_info": {
   "codemirror_mode": {
    "name": "ipython",
    "version": 3
   },
   "file_extension": ".py",
   "mimetype": "text/x-python",
   "name": "python",
   "nbconvert_exporter": "python",
   "pygments_lexer": "ipython3",
   "version": "3.10.8"
  }
 },
 "nbformat": 4,
 "nbformat_minor": 5
}
