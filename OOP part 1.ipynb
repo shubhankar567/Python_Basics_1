{
 "cells": [
  {
   "cell_type": "markdown",
   "id": "f2838a30-f0d4-460d-b4b6-868199c14861",
   "metadata": {},
   "source": [
    "Answer 1:\n",
    "\n",
    "A class is a user-defined blueprint or prototype from which objects are created. It represents the set of properties or methods that are common to all objects of one type.\n",
    "\n",
    "An object is a basic unit of object oriented programming and represents real-life entities. An object is an instance of a class that has specific values for the attributes and methods defined by the class. An object consists of state, behavior, and identity.\n",
    "\n",
    "For example, suppose we have a class called Student that has attributes like id, name, and grade, and methods like enroll(), study(), and takeExam()."
   ]
  },
  {
   "cell_type": "markdown",
   "id": "3b5749a6-7f36-4181-ab2a-29e53ebd6ffd",
   "metadata": {},
   "source": [
    "Answer 2:\n",
    "\n",
    "The four pillars of OOPs are:\n",
    "\n",
    "1. Abstraction: \n",
    "It is the process of hiding the implementation details and exposing only the functionality to the user.\n",
    "\n",
    "2. Encapsulation:\n",
    "It is the process of wrapping code and data together into a single unit.\n",
    "\n",
    "3. Inheritance:\n",
    "It is the mechanism of deriving new classes from existing ones.\n",
    "\n",
    "4. Polymorphism:\n",
    "It is the ability of an object to take different forms depending on the context."
   ]
  },
  {
   "cell_type": "markdown",
   "id": "e07ea91f-1e64-4fd2-a5c2-99ff1a090fe8",
   "metadata": {},
   "source": [
    "Answer 3:\n",
    "\n",
    "The init() function is a special method in Python that is used to initialize the attributes of an object of a class. It is also known as the constructor of the class. It is always executed when an object of the class is created. \n",
    "\n",
    "It helps to assign values to the object properties or perform other operations that are necessary when the object is being created.\n",
    "\n",
    "For example, suppose we have a class called Book that has attributes like title, author, and price. We can use the __init__() function to assign values to these attributes when we create an object of this class:"
   ]
  },
  {
   "cell_type": "code",
   "execution_count": 1,
   "id": "0529d644-893d-4eb0-9c63-ab317d8cf946",
   "metadata": {},
   "outputs": [
    {
     "name": "stdout",
     "output_type": "stream",
     "text": [
      "Title: The Catcher in the Rye\n",
      "Author: J.D. Salinger\n",
      "Price: 10.99\n"
     ]
    }
   ],
   "source": [
    "class Book:\n",
    "  def __init__(self, title, author, price):\n",
    "    self.title = title\n",
    "    self.author = author\n",
    "    self.price = price\n",
    "\n",
    "  def display(self):\n",
    "    print(f\"Title: {self.title}\")\n",
    "    print(f\"Author: {self.author}\")\n",
    "    print(f\"Price: {self.price}\")\n",
    "\n",
    "b1 = Book(\"The Catcher in the Rye\", \"J.D. Salinger\", 10.99) # create an object of Book class and pass values to __init__()\n",
    "b1.display() # call the display method of b1"
   ]
  },
  {
   "cell_type": "markdown",
   "id": "9cdcb1b9-c5ae-45c5-a1ea-43b7d884f2b7",
   "metadata": {},
   "source": [
    "Answer 4:\n",
    "\n",
    "self is a parameter that refers to the current instance of the class. It is used to access the attributes and methods of the class from inside the class. It is not a keyword, but a naming convention that is widely followed in Python."
   ]
  },
  {
   "cell_type": "markdown",
   "id": "36c34f47-c02f-4d9c-bd68-4199cecf392a",
   "metadata": {},
   "source": [
    "Answer 5:\n",
    "\n",
    "Inheritance is a mechanism of deriving new classes from existing ones. It helps to reuse the common attributes and methods of the parent class and add new features as per the requirement. It is one of the core concepts of object-oriented programming (OOP) languages.\n",
    "\n",
    "There are different types of inheritance, depending on the number and relationship of the classes involved. Some of the common types are:\n",
    "\n",
    "1. Single inheritance: \n",
    "It is the simplest form of inheritance where a subclass inherits from only one superclass. For example:\n"
   ]
  },
  {
   "cell_type": "code",
   "execution_count": 2,
   "id": "012ba492-0391-44d0-8b6a-8ea5c454af79",
   "metadata": {},
   "outputs": [],
   "source": [
    "class Person(object):\n",
    "  def __init__(self, name):\n",
    "    self.name = name\n",
    "\n",
    "  def getName(self):\n",
    "    return self.name\n",
    "\n",
    "  def isEmployee(self):\n",
    "    return False\n",
    "\n",
    "class Employee(Person):\n",
    "  def isEmployee(self):\n",
    "    return True\n"
   ]
  },
  {
   "cell_type": "markdown",
   "id": "8b80e3d9-1c46-45cb-85d4-30611ca729d8",
   "metadata": {},
   "source": [
    "2. Multiple inheritance: \n",
    "It is a form of inheritance where a subclass inherits from more than one superclass. For example:"
   ]
  },
  {
   "cell_type": "code",
   "execution_count": 3,
   "id": "df987d52-b52c-4c31-ac06-48377dfd9392",
   "metadata": {},
   "outputs": [],
   "source": [
    "class A(object):\n",
    "  def display(self):\n",
    "    print(\"I am A\")\n",
    "\n",
    "class B(object):\n",
    "  def show(self):\n",
    "    print(\"I am B\")\n",
    "\n",
    "class C(A, B):\n",
    "  def greet(self):\n",
    "    print(\"I am C\")\n"
   ]
  },
  {
   "cell_type": "markdown",
   "id": "f8f5743f-56d5-4eec-9411-f542471ebdc5",
   "metadata": {},
   "source": [
    "3. Multilevel inheritance: \n",
    "It is a form of inheritance where a subclass inherits from another subclass that inherits from a superclass. For example:"
   ]
  },
  {
   "cell_type": "code",
   "execution_count": 4,
   "id": "1ae1473a-458e-4bfe-a822-349264b5c1f7",
   "metadata": {},
   "outputs": [],
   "source": [
    "class A(object):\n",
    "  def display(self):\n",
    "    print(\"I am A\")\n",
    "\n",
    "class B(A):\n",
    "  def show(self):\n",
    "    print(\"I am B\")\n",
    "\n",
    "class C(B):\n",
    "  def greet(self):\n",
    "    print(\"I am C\")\n"
   ]
  },
  {
   "cell_type": "markdown",
   "id": "13f5ea01-ccda-47b7-a93a-abf3eff80d14",
   "metadata": {},
   "source": [
    "4. Hierarchical inheritance: \n",
    "It is a form of inheritance where more than one subclass inherits from a single superclass. For example:"
   ]
  },
  {
   "cell_type": "code",
   "execution_count": 5,
   "id": "0f4889a9-f74d-4899-9742-026e6e855f29",
   "metadata": {},
   "outputs": [],
   "source": [
    "class A(object):\n",
    "  def display(self):\n",
    "    print(\"I am A\")\n",
    "\n",
    "class B(A):\n",
    "  def show(self):\n",
    "    print(\"I am B\")\n",
    "\n",
    "class C(A):\n",
    "  def greet(self):\n",
    "    print(\"I am C\")\n"
   ]
  },
  {
   "cell_type": "markdown",
   "id": "8f095828-cb74-4009-a424-10653f714125",
   "metadata": {},
   "source": [
    "5. Hybrid Inheritance:\n",
    "It is a form of inheritance that combines two or more types of inheritance. For example:"
   ]
  },
  {
   "cell_type": "code",
   "execution_count": 6,
   "id": "5043203c-b04c-4b03-9db5-1ccc50716e6d",
   "metadata": {},
   "outputs": [],
   "source": [
    "class A(object):\n",
    "  def display(self):\n",
    "    print(\"I am A\")\n",
    "\n",
    "class B(A):\n",
    "  def show(self):\n",
    "    print(\"I am B\")\n",
    "\n",
    "class C(A):\n",
    "  def greet(self):\n",
    "    print(\"I am C\")\n",
    "\n",
    "class D(B, C):\n",
    "  def welcome(self):\n",
    "    print(\"I am D\")\n"
   ]
  },
  {
   "cell_type": "code",
   "execution_count": null,
   "id": "04dc5772-e464-4e43-a14a-4666e23639e0",
   "metadata": {},
   "outputs": [],
   "source": []
  }
 ],
 "metadata": {
  "kernelspec": {
   "display_name": "Python 3 (ipykernel)",
   "language": "python",
   "name": "python3"
  },
  "language_info": {
   "codemirror_mode": {
    "name": "ipython",
    "version": 3
   },
   "file_extension": ".py",
   "mimetype": "text/x-python",
   "name": "python",
   "nbconvert_exporter": "python",
   "pygments_lexer": "ipython3",
   "version": "3.10.8"
  }
 },
 "nbformat": 4,
 "nbformat_minor": 5
}
