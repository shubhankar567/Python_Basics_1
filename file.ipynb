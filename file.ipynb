{
 "cells": [
  {
   "cell_type": "markdown",
   "id": "f9b2d019-98ea-493c-84e8-1c75e0d8b707",
   "metadata": {},
   "source": [
    "Files are of different types: txt file, csv file, json file, binary file, etc."
   ]
  },
  {
   "cell_type": "code",
   "execution_count": 17,
   "id": "5f99da29-26a8-464c-8064-829934b072e4",
   "metadata": {},
   "outputs": [
    {
     "name": "stdout",
     "output_type": "stream",
     "text": [
      "I am hereI am here to tell you\n",
      "I am here to tell you\n"
     ]
    }
   ],
   "source": [
    "with open(\"demo.txt\",'r') as f:\n",
    "    data = f.read()\n",
    "    print(data)"
   ]
  },
  {
   "cell_type": "code",
   "execution_count": 27,
   "id": "46af180b-9a6e-47cb-8ff5-36481e1e6454",
   "metadata": {},
   "outputs": [
    {
     "name": "stdout",
     "output_type": "stream",
     "text": [
      "['I am hereI am here to tell you\\n', 'I am here to tell you']\n"
     ]
    }
   ],
   "source": [
    "f = open('demo.txt', 'r')\n",
    "data = f.readlines()\n",
    "print(data)\n",
    "#for i in data:\n",
    " #   print(i)\n",
    "\n",
    "f.close()"
   ]
  },
  {
   "cell_type": "code",
   "execution_count": null,
   "id": "b43be919-e69e-4f88-9404-9ebfafe7df95",
   "metadata": {},
   "outputs": [],
   "source": []
  }
 ],
 "metadata": {
  "kernelspec": {
   "display_name": "Python 3 (ipykernel)",
   "language": "python",
   "name": "python3"
  },
  "language_info": {
   "codemirror_mode": {
    "name": "ipython",
    "version": 3
   },
   "file_extension": ".py",
   "mimetype": "text/x-python",
   "name": "python",
   "nbconvert_exporter": "python",
   "pygments_lexer": "ipython3",
   "version": "3.10.8"
  }
 },
 "nbformat": 4,
 "nbformat_minor": 5
}
