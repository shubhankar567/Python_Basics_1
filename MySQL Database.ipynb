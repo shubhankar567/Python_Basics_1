{
 "cells": [
  {
   "cell_type": "markdown",
   "id": "5271f819-ecc9-478f-a753-222ef27903c0",
   "metadata": {},
   "source": [
    "Answer 1:\n",
    "\n",
    "A **database** is an organized collection of structured information, or data, typically stored electronically in a computer system. A database is usually controlled by a database management system (DBMS).\n",
    "\n",
    "There are two primary types of databases: **SQL** (relational databases) and **NoSQL** (non-relational databases). \n",
    "\n",
    "SQL databases use a relational model that works best with well-defined structured data, such as names and quantities, in which relations exist between different entities. SQL databases are scalable vertically, meaning that you can increase the maximum load by adding further storage components like RAM or SSD. \n",
    "\n",
    "On the other hand, NoSQL databases are non-relational databases that store data in a manner other than the tabular relations used within SQL databases. NoSQL databases are suitable for structured, semi-structured, and unstructured data. They don't follow a rigid schema but instead have more flexible structures to accommodate their data-types. NoSQL databases are scalable horizontally, meaning that they use multiple nodes in a cluster to handle increased workloads."
   ]
  },
  {
   "cell_type": "code",
   "execution_count": null,
   "id": "aa2507f9-f12e-408a-ad75-abf5612ca744",
   "metadata": {},
   "outputs": [],
   "source": []
  },
  {
   "cell_type": "markdown",
   "id": "88c57128-9d02-4dde-8716-4eab6bfb3eed",
   "metadata": {},
   "source": [
    "Answer 2:\n",
    "\n",
    "**DDL** stands for **Data Definition Language** and is a subset of SQL and a part of DBMS (Database Management System). DDL consists of commands like **CREATE**, **ALTER**, **TRUNCATE**, and **DROP**. These commands are used to create or modify the tables in SQL.\n",
    "\n",
    "- **CREATE**: This command is used to create a new table in SQL. The user has to give information like table name, column names, and their datatypes. For example, if we need to create a table for storing student information of a particular college, the syntax would be: ` CREATE TABLE Student_info (College_Id number(2), College_name varchar(30), Branch varchar(10));`.\n",
    "- **ALTER**: This command is used to add, delete or change columns in the existing table. The user needs to know the existing table name and can do add, delete or modify tasks easily. For example, if we want to add a new column for CGPA in our Student_info table, the syntax would be: `ALTER TABLE Student_info ADD CGPA number;`.\n",
    "- **TRUNCATE**: This command is used to remove all rows from the table, but the structure of the table still exists. For example, if the college authority wants to remove the details of all students for new batches but wants to keep the table structure, they can use the command: `TRUNCATE TABLE Student_info;`.\n",
    "- **DROP**: This command is used to remove an existing table along with its structure from the database. For example, if the college authority wants to change their database by deleting the Student_info table, they can use the command: `DROP TABLE Student_info;`."
   ]
  },
  {
   "cell_type": "code",
   "execution_count": null,
   "id": "e486ffeb-9e0d-4b3d-9afb-5ed01c3e031f",
   "metadata": {},
   "outputs": [],
   "source": []
  },
  {
   "cell_type": "markdown",
   "id": "b2ebbb20-17b2-4cef-8647-5ffadb10f141",
   "metadata": {},
   "source": [
    "Answer 3:\n",
    "\n",
    "**DML** stands for **Data Manipulation Language** and is a subset of SQL that consists of commands such as **INSERT**, **UPDATE**, and **DELETE**. These commands are used to view and manage data in a database.\n",
    "\n",
    "- **INSERT**: This command is used to add new rows to a table. For example, if we want to insert a new row into our Student_info table with the values `College_Id = 1`, `College_name = 'ABC College'`, and `Branch = 'Computer Science'`, the syntax would be: `INSERT INTO Student_info (College_Id, College_name, Branch) VALUES (1, 'ABC College', 'Computer Science');`.\n",
    "- **UPDATE**: This command is used to modify the data in existing rows of a table. For example, if we want to update the `Branch` value of the row where `College_Id = 1` to `'Mechanical Engineering'`, the syntax would be: `UPDATE Student_info SET Branch = 'Mechanical Engineering' WHERE College_Id = 1;`.\n",
    "- **DELETE**: This command is used to remove one or more rows from a table. For example, if we want to delete the row where `College_Id = 1`, the syntax would be: `DELETE FROM Student_info WHERE College_Id = 1;`."
   ]
  },
  {
   "cell_type": "code",
   "execution_count": null,
   "id": "7d30e3e4-17fe-4be3-8709-11f25d0bf241",
   "metadata": {},
   "outputs": [],
   "source": []
  },
  {
   "cell_type": "markdown",
   "id": "e8fef71b-93c5-47bc-a316-ef12b008902d",
   "metadata": {},
   "source": [
    "Answer 4:\n",
    "    \n",
    "**DQL** stands for **Data Query Language** and is a subset of SQL that consists of the **SELECT** command. DQL statements are used for performing queries on the data within schema objects. The purpose of the DQL Command is to get some schema relation based on the query passed to it.\n",
    "\n",
    "- **SELECT**: This command is used to retrieve data from a database. For example, if we want to retrieve all rows from our Student_info table where `Branch = 'Computer Science'`, the syntax would be: `SELECT * FROM Student_info WHERE Branch = 'Computer Science';`."
   ]
  },
  {
   "cell_type": "code",
   "execution_count": null,
   "id": "aa357dfd-8c2f-4c74-958a-84c323ab9903",
   "metadata": {},
   "outputs": [],
   "source": []
  },
  {
   "cell_type": "markdown",
   "id": "4e4ddcfe-7ff8-44e6-8025-43aa50ce027b",
   "metadata": {},
   "source": [
    "Answer 5:\n",
    "\n",
    "A **Primary Key** is a column or a set of columns that uniquely identifies each row in a table. It must contain unique values and cannot contain null values.\n",
    "\n",
    "A **Foreign Key** is a column or a set of columns in one table that refers to the primary key of another table. The table with the foreign key is called the child table, and the table with the primary key is called the referenced or parent table. The foreign key constraint is used to prevent actions that would destroy links between tables."
   ]
  },
  {
   "cell_type": "code",
   "execution_count": null,
   "id": "cab077d8-2035-4bb3-b1c3-df2e5e64e6c5",
   "metadata": {},
   "outputs": [],
   "source": []
  },
  {
   "cell_type": "markdown",
   "id": "79fc948f-9ece-473e-a6cf-d226df9f00bc",
   "metadata": {},
   "source": [
    "Answer 6:\n",
    "\n",
    "Here is an example of how to connect to a MySQL database using Python:\n",
    "\n",
    "```python\n",
    "import mysql.connector\n",
    "\n",
    "# Establish a connection to the MySQL database\n",
    "mydb = mysql.connector.connect(\n",
    "  host=\"hostname\",\n",
    "  user=\"username\",\n",
    "  password=\"password\",\n",
    "  database=\"database_name\"\n",
    ")\n",
    "\n",
    "# Create a cursor object\n",
    "mycursor = mydb.cursor()\n",
    "\n",
    "# Execute a SQL query\n",
    "mycursor.execute(\"SELECT * FROM table_name\")\n",
    "\n",
    "# Fetch the results\n",
    "myresult = mycursor.fetchall()\n",
    "\n",
    "# Print the results\n",
    "for row in myresult:\n",
    "  print(row)\n",
    "```\n",
    "\n",
    "The `cursor()` method is used to create a cursor object, which is used to execute SQL queries on the database. The `execute()` method is a method of the cursor object and is used to execute a SQL query. The results of the query can then be fetched using methods such as `fetchall()` or `fetchone()`."
   ]
  },
  {
   "cell_type": "code",
   "execution_count": null,
   "id": "76339eaf-fd7a-49d5-9e50-8755a66244e8",
   "metadata": {},
   "outputs": [],
   "source": []
  },
  {
   "cell_type": "markdown",
   "id": "608285f0-9214-4ad2-8707-bd964eeb0b33",
   "metadata": {},
   "source": [
    "Answer 7:\n",
    "\n",
    "The order of execution of SQL clauses in an SQL query is as follows:\n",
    "\n",
    "1. **FROM** clause\n",
    "2. **ON** clause\n",
    "3. **OUTER** clause\n",
    "4. **WHERE** clause\n",
    "5. **GROUP BY** clause\n",
    "6. **HAVING** clause\n",
    "7. **SELECT** clause\n",
    "8. **DISTINCT** clause\n",
    "9. **ORDER BY** clause\n",
    "10. **TOP** clause"
   ]
  }
 ],
 "metadata": {
  "kernelspec": {
   "display_name": "Python 3 (ipykernel)",
   "language": "python",
   "name": "python3"
  },
  "language_info": {
   "codemirror_mode": {
    "name": "ipython",
    "version": 3
   },
   "file_extension": ".py",
   "mimetype": "text/x-python",
   "name": "python",
   "nbconvert_exporter": "python",
   "pygments_lexer": "ipython3",
   "version": "3.10.8"
  }
 },
 "nbformat": 4,
 "nbformat_minor": 5
}
