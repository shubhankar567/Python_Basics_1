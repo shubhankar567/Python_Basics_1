{
 "cells": [
  {
   "cell_type": "code",
   "execution_count": 2,
   "id": "98ce8679-1926-4af9-9803-194e06443b14",
   "metadata": {},
   "outputs": [],
   "source": [
    "import numpy as np\n",
    "list_ = ['1' , '2', '3', '4', '5']\n",
    "array_list = np.array(object = list_)"
   ]
  },
  {
   "cell_type": "code",
   "execution_count": 4,
   "id": "ca3ac78a-d996-4e52-ad6a-55c6294f2eea",
   "metadata": {},
   "outputs": [
    {
     "name": "stdout",
     "output_type": "stream",
     "text": [
      "<class 'list'> <class 'numpy.ndarray'>\n"
     ]
    }
   ],
   "source": [
    "#Answer 1:\n",
    "# There is the difference of data type. One is a list and another is an array.\n",
    "\n",
    "print(type(list_), type(array_list))"
   ]
  },
  {
   "cell_type": "code",
   "execution_count": null,
   "id": "62050213-dd2f-4d06-b096-66d9abb6e9e1",
   "metadata": {},
   "outputs": [],
   "source": []
  },
  {
   "cell_type": "markdown",
   "id": "f7364fbf-a695-417c-a745-386b2f1dd73e",
   "metadata": {},
   "source": [
    "# Answer 2:\n",
    "\n",
    "Here's the code you can use to print the data type of each element in both `list_` and `array_list`:\n",
    "\n",
    "```python\n",
    "import numpy as np\n",
    "list_ = ['1', '2', '3', '4', '5']\n",
    "array_list = np.array(object=list_)\n",
    "\n",
    "for element in list_:\n",
    "    print(type(element))\n",
    "\n",
    "for element in array_list:\n",
    "    print(type(element))\n",
    "```\n",
    "\n",
    "This code will iterate over each element in both `list_` and `array_list` and print the data type of each element using the `type()` function."
   ]
  },
  {
   "cell_type": "code",
   "execution_count": null,
   "id": "d5de95dd-de9c-4664-8c28-62b503108e1d",
   "metadata": {},
   "outputs": [],
   "source": []
  },
  {
   "cell_type": "markdown",
   "id": "3a491e72-6773-4e73-908e-0c587b44525b",
   "metadata": {
    "tags": []
   },
   "source": [
    "# Answer 3:\n",
    "\n",
    "Yes, there will be a difference in the data types of the elements present in `list_` and `array_list`. In `list_`, the elements are still strings, while in `array_list`, the elements have been converted to integers due to the `dtype=int` argument when creating the array.\n",
    "\n",
    "Here's the code that prints the data types of each element in both `list_` and `array_list`:\n",
    "\n",
    "```python\n",
    "import numpy as np\n",
    "list_ = ['1', '2', '3', '4', '5']\n",
    "array_list = np.array(object=list_, dtype=int)\n",
    "\n",
    "print(\"Data types in list_:\")\n",
    "for element in list_:\n",
    "    print(type(element))\n",
    "\n",
    "print(\"Data types in array_list:\")\n",
    "for element in array_list:\n",
    "    print(type(element))\n",
    "```\n",
    "\n",
    "This code will iterate over each element in both `list_` and `array_list` and print the data type of each element using the `type()` function."
   ]
  },
  {
   "cell_type": "code",
   "execution_count": null,
   "id": "c6476dfd-6478-4ae1-b764-5e77877290c9",
   "metadata": {},
   "outputs": [],
   "source": []
  },
  {
   "cell_type": "markdown",
   "id": "1f5c7aed-1be7-4be3-8d95-8e36471ec7c7",
   "metadata": {},
   "source": [
    "# Answer 4\n",
    "\n",
    "Here's the code that finds the shape and size of the `num_array` variable:\n",
    "\n",
    "```python\n",
    "import numpy as np\n",
    "\n",
    "# assuming num_array is already defined\n",
    "print(\"Shape of num_array:\", num_array.shape)\n",
    "print(\"Size of num_array:\", num_array.size)\n",
    "```\n",
    "\n",
    "This code uses the `shape` and `size` attributes of the `num_array` variable to find its shape and size, respectively."
   ]
  },
  {
   "cell_type": "code",
   "execution_count": null,
   "id": "3605dadb-7513-4d70-ac32-0d16c1b2d6db",
   "metadata": {},
   "outputs": [],
   "source": []
  },
  {
   "cell_type": "code",
   "execution_count": 4,
   "id": "85290665-2b2d-4966-86f5-f7b13d96dd38",
   "metadata": {},
   "outputs": [
    {
     "data": {
      "text/plain": [
       "array([[0., 0., 0.],\n",
       "       [0., 0., 0.],\n",
       "       [0., 0., 0.]])"
      ]
     },
     "execution_count": 4,
     "metadata": {},
     "output_type": "execute_result"
    }
   ],
   "source": [
    "#Answer 5:\n",
    "\n",
    "np.zeros((3,3))"
   ]
  },
  {
   "cell_type": "code",
   "execution_count": null,
   "id": "7e115add-9b6b-446a-8860-a273a0d0ad85",
   "metadata": {},
   "outputs": [],
   "source": []
  },
  {
   "cell_type": "code",
   "execution_count": 7,
   "id": "f820dada-7c27-46a4-9fef-ee71bb56bbf0",
   "metadata": {},
   "outputs": [
    {
     "data": {
      "text/plain": [
       "array([[1., 0., 0., 0., 0.],\n",
       "       [0., 1., 0., 0., 0.],\n",
       "       [0., 0., 1., 0., 0.],\n",
       "       [0., 0., 0., 1., 0.],\n",
       "       [0., 0., 0., 0., 1.]])"
      ]
     },
     "execution_count": 7,
     "metadata": {},
     "output_type": "execute_result"
    }
   ],
   "source": [
    "#Answer 6:\n",
    "\n",
    "np.eye(5, 5)"
   ]
  },
  {
   "cell_type": "code",
   "execution_count": null,
   "id": "cdd45840-4f52-4289-8208-a9d1de86011c",
   "metadata": {},
   "outputs": [],
   "source": []
  }
 ],
 "metadata": {
  "kernelspec": {
   "display_name": "Python 3 (ipykernel)",
   "language": "python",
   "name": "python3"
  },
  "language_info": {
   "codemirror_mode": {
    "name": "ipython",
    "version": 3
   },
   "file_extension": ".py",
   "mimetype": "text/x-python",
   "name": "python",
   "nbconvert_exporter": "python",
   "pygments_lexer": "ipython3",
   "version": "3.10.8"
  }
 },
 "nbformat": 4,
 "nbformat_minor": 5
}
