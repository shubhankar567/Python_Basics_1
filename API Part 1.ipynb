{
 "cells": [
  {
   "cell_type": "markdown",
   "id": "a704032d-e214-4ccc-ad3e-ab9120adc9b3",
   "metadata": {},
   "source": [
    "Answer 1:\n",
    "\n",
    "An API, or **Application Programming Interface**, is a set of protocols and tools for building software and applications. It specifies how software components should interact and APIs allow different applications to communicate with each other.\n",
    "\n",
    "A real-life example of an API is **Twilio**. Twilio is a cloud communications platform that provides APIs for businesses to enable customer engagement and communications using phone, chat, SMS, 2-factor authentication, VOIP, etc, straight from the user’s app or website. Their simple, customizable API codes help their business clients connect with customers in ways that boost effective relationship building and problem-solving.\n",
    "\n"
   ]
  },
  {
   "cell_type": "code",
   "execution_count": null,
   "id": "65b7f286-4137-4914-ac34-0dad9422edbe",
   "metadata": {},
   "outputs": [],
   "source": []
  },
  {
   "cell_type": "raw",
   "id": "0edcaf05-7fee-4c51-9ef7-f0764b7928a9",
   "metadata": {},
   "source": [
    "Answer 2:\n",
    "\n",
    "APIs have several advantages for businesses. They can streamline organizational operations, provide strategic value such as additional exposure for your brand and increased revenue, and allow companies to expand into new markets.\n",
    "\n",
    "However, there are also some disadvantages to using APIs. As a single point of entry, an API can become a hacker's primary target. Once the API is compromised, all other applications and systems become vulnerable. Additionally, using an API gateway can increase the complexity and overhead of your system, as well as higher costs and fees for the usage and maintenance of the service."
   ]
  },
  {
   "cell_type": "code",
   "execution_count": null,
   "id": "f66714fe-d84c-44ba-98c7-f217c629f5f2",
   "metadata": {},
   "outputs": [],
   "source": []
  },
  {
   "cell_type": "markdown",
   "id": "23a72652-33fe-44a3-8f7b-6d1833e4814d",
   "metadata": {},
   "source": [
    "Answer 3:\n",
    "\n",
    "A **Web API** is a type of API that uses HTTP to request data from a server and receive a response. It is a way for different applications to communicate with each other over the web.\n",
    "\n",
    "The key distinction between an API and a Web API is that **Web services are a type of API**: All web services are APIs, but not all APIs are web services. 'API' is the broader category because, by definition, it refers to any software component that acts as an intermediary between two otherwise disconnected applications."
   ]
  },
  {
   "cell_type": "code",
   "execution_count": null,
   "id": "8588616b-c9b9-4513-92fc-7dc7f8c128a4",
   "metadata": {},
   "outputs": [],
   "source": []
  },
  {
   "cell_type": "markdown",
   "id": "620d75d6-4cb9-4e49-a7d5-c453b761ef00",
   "metadata": {},
   "source": [
    "Answer 4:\n",
    "\n",
    "**SOAP (Simple Object Access Protocol)** and **REST (Representational State Transfer)** are both web service communication protocols. SOAP was long the standard approach to web service interfaces, although it’s been dominated by REST in recent years, with REST now representing more than 70% of public APIs.\n",
    "\n",
    "REST was designed to address SOAP’s shortcomings and offer an easier way to access web services. Web services created using the REST architectural style are known as RESTful web services. REST is very popular with developers who design public APIs.\n",
    "\n",
    "While SOAP and REST share similarities over the HTTP protocol, SOAP is a more rigid set of messaging patterns than REST. The rules in SOAP are important because we can’t achieve any level of standardization without them. REST as an architecture style does not require processing and is naturally more flexible."
   ]
  },
  {
   "cell_type": "code",
   "execution_count": null,
   "id": "9cc8c68f-cbd3-4d18-90f3-ea83c91c2911",
   "metadata": {},
   "outputs": [],
   "source": []
  },
  {
   "cell_type": "markdown",
   "id": "62b486b4-5f0c-4222-907e-894be7e5b96e",
   "metadata": {},
   "source": [
    "Answer 5:\n",
    "\n",
    "**SOAP (Simple Object Access Protocol)** and **REST (Representational State Transfer)** are both web service communication protocols. SOAP was long the standard approach to web service interfaces, although it’s been dominated by REST in recent years, with REST now representing more than 70% of public APIs.\n",
    "\n",
    "REST was designed to address SOAP’s shortcomings and offer an easier way to access web services. Web services created using the REST architectural style are known as RESTful web services. REST is very popular with developers who design public APIs.\n",
    "\n",
    "While SOAP and REST share similarities over the HTTP protocol, SOAP is a more rigid set of messaging patterns than REST. The rules in SOAP are important because we can’t achieve any level of standardization without them. REST as an architecture style does not require processing and is naturally more flexible."
   ]
  },
  {
   "cell_type": "code",
   "execution_count": null,
   "id": "a213410b-3986-4b91-81fc-687350189a35",
   "metadata": {},
   "outputs": [],
   "source": []
  }
 ],
 "metadata": {
  "kernelspec": {
   "display_name": "Python 3 (ipykernel)",
   "language": "python",
   "name": "python3"
  },
  "language_info": {
   "codemirror_mode": {
    "name": "ipython",
    "version": 3
   },
   "file_extension": ".py",
   "mimetype": "text/x-python",
   "name": "python",
   "nbconvert_exporter": "python",
   "pygments_lexer": "ipython3",
   "version": "3.10.8"
  }
 },
 "nbformat": 4,
 "nbformat_minor": 5
}
