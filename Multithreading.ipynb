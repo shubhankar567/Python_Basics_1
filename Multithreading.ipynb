{
 "cells": [
  {
   "cell_type": "markdown",
   "id": "76016072-94fb-45ed-9811-df0c199bea05",
   "metadata": {},
   "source": [
    "Answer 1:\n",
    "\n",
    "Multithreading in Python is a technique that enables multiple tasks to be executed simultaneously. The ability of a processor to execute multiple threads simultaneously is known as multithreading. It is very useful in speeding up computations.\n",
    "\n",
    "The **threading** module provides a very simple and intuitive API for spawning multiple threads in a program.\n"
   ]
  },
  {
   "cell_type": "code",
   "execution_count": null,
   "id": "105a5e28-e685-4148-9ca5-d57413ded55e",
   "metadata": {},
   "outputs": [],
   "source": []
  },
  {
   "cell_type": "markdown",
   "id": "27a523b6-5a16-4cba-9373-0f88ccf031a4",
   "metadata": {},
   "source": [
    "Answer 2:\n",
    "\n",
    "The **threading** module is used for creating, controlling, and managing threads in Python. It provides a very simple and intuitive API for implementing multiple threads.\n",
    "\n",
    "The `activeCount()` function returns the number of **Thread objects** currently alive. The returned count is equal to the length of the list returned by `enumerate()`.\n",
    "\n",
    "The `currentThread()` function returns the current **Thread object**, corresponding to the caller’s thread of control. If the caller’s thread of control was not created through the threading module, a dummy thread object with limited functionality is returned.\n",
    "\n",
    "The `enumerate()` function returns a list of all **Thread objects** currently alive."
   ]
  },
  {
   "cell_type": "code",
   "execution_count": null,
   "id": "cf0d5d8c-8591-400a-9298-765b701f644a",
   "metadata": {},
   "outputs": [],
   "source": []
  },
  {
   "cell_type": "markdown",
   "id": "778624f6-5a64-44ff-a257-963558aad3c3",
   "metadata": {},
   "source": [
    "Answer 3:\n",
    "\n",
    "The `start()` method starts a thread by calling the `run` method.\n",
    "\n",
    "The `join()` method waits for threads to terminate.\n",
    "\n",
    "The `isAlive()` method checks whether a thread is still executing. It returns `True` before the `run()` method starts until just after the `run()` method is executed."
   ]
  },
  {
   "cell_type": "code",
   "execution_count": null,
   "id": "01bc2004-04b4-4ae9-a95a-519aed168d46",
   "metadata": {},
   "outputs": [],
   "source": []
  },
  {
   "cell_type": "code",
   "execution_count": 2,
   "id": "e19512a2-d481-4598-99ea-1188d9fac0e1",
   "metadata": {},
   "outputs": [
    {
     "name": "stdout",
     "output_type": "stream",
     "text": [
      "Square of 1 is 1\n",
      "Square of 2 is 4\n",
      "Square of 3 is 9\n",
      "Square of 4 is 16\n",
      "Square of 5 is 25\n",
      "Cube of 1 is 1\n",
      "Cube of 2 is 8\n",
      "Cube of 3 is 27\n",
      "Cube of 4 is 64\n",
      "Cube of 5 is 125\n"
     ]
    }
   ],
   "source": [
    "#Answer 4:\n",
    "\n",
    "import threading\n",
    "\n",
    "def print_squares():\n",
    "    for i in range(1, 6):\n",
    "        print(f\"Square of {i} is {i**2}\")\n",
    "\n",
    "def print_cubes():\n",
    "    for i in range(1, 6):\n",
    "        print(f\"Cube of {i} is {i**3}\")\n",
    "\n",
    "t1 = threading.Thread(target=print_squares)\n",
    "t2 = threading.Thread(target=print_cubes)\n",
    "\n",
    "t1.start()\n",
    "t2.start()\n",
    "\n",
    "t1.join()\n",
    "t2.join()\n"
   ]
  },
  {
   "cell_type": "code",
   "execution_count": null,
   "id": "db319c65-d7cd-451f-915c-0c1681ce7f20",
   "metadata": {},
   "outputs": [],
   "source": []
  },
  {
   "cell_type": "markdown",
   "id": "2e01ac82-52d9-424a-b158-78d38a6c9816",
   "metadata": {},
   "source": [
    "Answer 5:\n",
    "\n",
    "Multithreading has several advantages and disadvantages. Some of the advantages of multithreading are:\n",
    "\n",
    "- Enhanced performance by decreased development time\n",
    "- Simplified and streamlined program coding\n",
    "- Improvised GUI responsiveness\n",
    "- Simultaneous and parallelized occurrence of tasks\n",
    "- Better use of cache storage by utilization of resources\n",
    "- Decreased cost of maintenance\n",
    "- Better use of CPU resource\n",
    "\n",
    "Some of the disadvantages of multithreading are:\n",
    "\n",
    "- Code writing, debugging, managing concurrency, testing, porting existing code is difficult in multithreading and multicontexting.\n",
    "- Multiple threads can interfere with each other when sharing hardware resources such as caches or translation lookaside buffers (TLBs). As a result, execution times of a single thread are not improved and can be degraded, even when only one thread is executing, due to lower cache hit rates."
   ]
  },
  {
   "cell_type": "code",
   "execution_count": null,
   "id": "8c385b26-1843-4667-a7c4-86e9d73e46fa",
   "metadata": {},
   "outputs": [],
   "source": []
  },
  {
   "cell_type": "markdown",
   "id": "b8cbfa45-8eac-4c0f-980b-c2c8426ec87c",
   "metadata": {},
   "source": [
    "Answer 6:\n",
    "\n",
    "A race condition occurs when two or more threads access shared data and try to change it at the same time. As a result, the values of the shared data can be unpredictable and vary depending on the order in which the threads execute. This can lead to incorrect program behavior and data corruption.\n",
    "\n",
    "A deadlock occurs when two or more threads are blocked waiting for each other to release resources that they need to proceed. As a result, none of the threads can proceed and the program hangs.\n"
   ]
  },
  {
   "cell_type": "code",
   "execution_count": null,
   "id": "7d169762-be34-45df-a3f7-314bd6616eae",
   "metadata": {},
   "outputs": [],
   "source": []
  }
 ],
 "metadata": {
  "kernelspec": {
   "display_name": "Python 3 (ipykernel)",
   "language": "python",
   "name": "python3"
  },
  "language_info": {
   "codemirror_mode": {
    "name": "ipython",
    "version": 3
   },
   "file_extension": ".py",
   "mimetype": "text/x-python",
   "name": "python",
   "nbconvert_exporter": "python",
   "pygments_lexer": "ipython3",
   "version": "3.10.8"
  }
 },
 "nbformat": 4,
 "nbformat_minor": 5
}
