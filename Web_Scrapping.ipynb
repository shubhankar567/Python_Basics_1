{
 "cells": [
  {
   "cell_type": "markdown",
   "id": "bf1fd56d-99b4-4138-91bb-4c559e961268",
   "metadata": {},
   "source": [
    "Answer 1:\n",
    "\n",
    "Web scraping is an automatic method to obtain large amounts of data from websites. Most of this data is unstructured data in an HTML format which is then converted into structured data in a spreadsheet or a database so that it can be used in various applications.\n",
    "\n",
    "Web scraping can be used for various purposes such as **Price Monitoring**, **Market Research**, and **News Monitoring**."
   ]
  },
  {
   "cell_type": "code",
   "execution_count": null,
   "id": "4d5b68d6-f346-493f-8699-eff449ce791e",
   "metadata": {},
   "outputs": [],
   "source": []
  },
  {
   "cell_type": "markdown",
   "id": "32d837f6-485f-456d-9dc7-2f37caa0bfff",
   "metadata": {},
   "source": [
    "Answer 2:\n",
    "\n",
    "There are many different ways to perform web scraping to obtain data from websites. These include using online services, particular API’s or even creating your code for web scraping from scratch. Many large websites, like Google, Twitter, Facebook, StackOverflow, etc. have API’s that allow you to access their data in a structured format.\n",
    "\n",
    "Some common techniques used for Web Scraping are **Human copy-and-paste**, **Text pattern matching**, **HTTP programming**, **HTML parsing**, **DOM parsing**, and **Vertical aggregation**."
   ]
  },
  {
   "cell_type": "code",
   "execution_count": null,
   "id": "b17c1403-7973-4b00-b0e0-5317293adcd0",
   "metadata": {},
   "outputs": [],
   "source": []
  },
  {
   "cell_type": "markdown",
   "id": "701fb00d-ccee-46c1-9a8c-d2cad219eeb0",
   "metadata": {},
   "source": [
    "Answer 3:\n",
    "\n",
    "Beautiful Soup is a Python library for pulling data out of HTML and XML files. It works with your favorite parser to provide idiomatic ways of navigating, searching, and modifying the parse tree. It commonly saves programmers hours or days of work.\n",
    "\n",
    "It is used for web scraping, which is the process of extracting data from websites using automated tools to make the process faster. The BeautifulSoup object represents the parsed document as a whole."
   ]
  },
  {
   "cell_type": "code",
   "execution_count": null,
   "id": "c6bd0d84-f0e8-4760-9088-30e8ef661356",
   "metadata": {},
   "outputs": [],
   "source": []
  },
  {
   "cell_type": "markdown",
   "id": "b9f90bce-cd7a-473e-8eb2-1e0b83d4e2c8",
   "metadata": {},
   "source": [
    "Answer 4:\n",
    "\n",
    "Flask is used to create an API for a web scraping project. This allows the scraped data to be accessed and used by other applications or users. Flask is lightweight and easy to use, making it a popular choice for small to medium-sized projects."
   ]
  },
  {
   "cell_type": "code",
   "execution_count": null,
   "id": "e44bd008-6c28-4791-8042-218c99adb09d",
   "metadata": {},
   "outputs": [],
   "source": []
  },
  {
   "cell_type": "markdown",
   "id": "a60eb75a-0ca6-48b1-aef0-251043742e25",
   "metadata": {},
   "source": [
    "Answer 5:\n",
    "\n",
    "We used two AWS services: Beanstalk and Code Pipeline.\n",
    "\n",
    "AWS Elastic Beanstalk is a service that makes it easy to deploy, run, and scale applications. It can be used to quickly deploy and manage applications in the AWS Cloud without worrying about the infrastructure that runs those applications.\n",
    "\n",
    "AWS CodePipeline is a continuous delivery service that enables you to model, visualize, and automate the steps required to release your software. It can be used to automate the build, test, and deploy phases of your release process every time there is a code change.\n",
    "\n",
    "In the context of a web scraping project, Elastic Beanstalk could be used to deploy and manage the web application or API that provides access to the scraped data. CodePipeline could be used to automate the deployment process, ensuring that changes to the code are automatically tested and deployed to the Elastic Beanstalk environment."
   ]
  },
  {
   "cell_type": "code",
   "execution_count": null,
   "id": "9cb6796c-355f-4554-ac1c-5c7bbc3ed91f",
   "metadata": {},
   "outputs": [],
   "source": []
  }
 ],
 "metadata": {
  "kernelspec": {
   "display_name": "Python 3 (ipykernel)",
   "language": "python",
   "name": "python3"
  },
  "language_info": {
   "codemirror_mode": {
    "name": "ipython",
    "version": 3
   },
   "file_extension": ".py",
   "mimetype": "text/x-python",
   "name": "python",
   "nbconvert_exporter": "python",
   "pygments_lexer": "ipython3",
   "version": "3.10.8"
  }
 },
 "nbformat": 4,
 "nbformat_minor": 5
}
