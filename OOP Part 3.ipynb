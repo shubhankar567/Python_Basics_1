{
 "cells": [
  {
   "cell_type": "code",
   "execution_count": 6,
   "id": "fd7ae1d1-1741-45c8-876c-fe8d73adb0af",
   "metadata": {},
   "outputs": [],
   "source": [
    "#Answer 1 and 2:\n",
    "\n",
    "class vehicle:\n",
    "    def __init__(self, name_of_vehicle, max_speed, average_of_vehicle):\n",
    "        self.name_of_vehicle = name_of_vehicle\n",
    "        self.max_speed = max_speed\n",
    "        self.average_of_vehicle = average_of_vehicle\n",
    "        \n",
    "class car(vehicle):\n",
    "    def seating_capacity(self, capacity):\n",
    "        return capacity, self.name_of_vehicle"
   ]
  },
  {
   "cell_type": "code",
   "execution_count": 7,
   "id": "07950d22-98c4-428a-a55d-874ec42ddb34",
   "metadata": {},
   "outputs": [],
   "source": [
    "xuv = car(\"XUV\", 140, 12)"
   ]
  },
  {
   "cell_type": "code",
   "execution_count": 8,
   "id": "4fe55916-bc87-4d00-9aba-ed73bd3830c3",
   "metadata": {},
   "outputs": [
    {
     "data": {
      "text/plain": [
       "(7, 'XUV')"
      ]
     },
     "execution_count": 8,
     "metadata": {},
     "output_type": "execute_result"
    }
   ],
   "source": [
    "xuv.seating_capacity(7)"
   ]
  },
  {
   "cell_type": "code",
   "execution_count": null,
   "id": "bfdf5452-3a3d-4ed9-b944-4c01caf2c3fc",
   "metadata": {},
   "outputs": [],
   "source": []
  },
  {
   "cell_type": "markdown",
   "id": "1380dfb2-dcab-46ab-9f0a-36b0654ca912",
   "metadata": {},
   "source": [
    "Answer 3:\n",
    "\n",
    "Multiple inheritance is a type of inheritance in which one class can inherit properties (attributes and methods) of more than one parent classes.\n",
    "\n",
    "Here is a code for it:"
   ]
  },
  {
   "cell_type": "code",
   "execution_count": 2,
   "id": "672274ca-679a-4693-81be-332a2ff405b6",
   "metadata": {},
   "outputs": [],
   "source": [
    "# define the parent classes\n",
    "class Parent1:\n",
    "    pass# some attributes and methods of Parent1\n",
    "class Parent2:\n",
    "    pass# some attributes and methods of Parent2\n",
    "\n",
    "# define the child class that inherits from both parent classes\n",
    "class Child(Parent1, Parent2):\n",
    "    pass# some attributes and methods of Child\n"
   ]
  },
  {
   "cell_type": "code",
   "execution_count": null,
   "id": "e1939c06-11c3-4682-b93e-71ae13be103b",
   "metadata": {},
   "outputs": [],
   "source": []
  },
  {
   "cell_type": "markdown",
   "id": "21fc8e9d-fe6f-45b1-86ff-c5494dfb448f",
   "metadata": {},
   "source": [
    "Answer 4:\n",
    "\n",
    "Getter and setter are methods that allow you to access and modify the attributes of a class. They are often used to ensure data encapsulation and validation logic. In Python, getter and setter are not very common, as most attributes are exposed as part of the public API of a class. However, you can use properties to attach behavior to an attribute without changing its interface.\n",
    "\n",
    "To create a class with a getter and a setter method in Python, you can use the following syntax:"
   ]
  },
  {
   "cell_type": "code",
   "execution_count": 3,
   "id": "b4e5a7e4-a0db-47f4-b0c9-68e4441a781f",
   "metadata": {},
   "outputs": [],
   "source": [
    "class MyClass:\n",
    "    def __init__(self, value):\n",
    "        self._value = value # _value is a private attribute\n",
    "\n",
    "    def get_value(self): # get_value is a getter method\n",
    "        return self._value\n",
    "\n",
    "    def set_value(self, new_value): # set_value is a setter method\n",
    "        self._value = new_value\n"
   ]
  },
  {
   "cell_type": "code",
   "execution_count": null,
   "id": "f64326bc-c082-4c88-b0f7-d601d803433f",
   "metadata": {},
   "outputs": [],
   "source": []
  },
  {
   "cell_type": "markdown",
   "id": "c8157129-3855-4b33-8273-80ba3065401b",
   "metadata": {},
   "source": [
    "Answer 5:\n",
    "\n",
    "Method overriding in Python is an ability of any object-oriented programming language that allows a subclass or child class to provide a specific implementation of a method that is already provided by one of its super-classes or parent classes. \n",
    "\n",
    "When a method in a subclass has the same name, same parameters or signature and same return type (or sub-type) as a method in its super-class, then the method in the subclass is said to override the method in the super-class.\n",
    "\n",
    "Here is an example of method overriding in Python:"
   ]
  },
  {
   "cell_type": "code",
   "execution_count": 4,
   "id": "e44af6f1-3515-4ceb-b33e-42a79b01c5d3",
   "metadata": {},
   "outputs": [
    {
     "name": "stdout",
     "output_type": "stream",
     "text": [
      "Animal makes a sound\n",
      "Dog barks\n"
     ]
    }
   ],
   "source": [
    "# define the parent class\n",
    "class Animal:\n",
    "    # define a method in the parent class\n",
    "    def speak(self):\n",
    "        print(\"Animal makes a sound\")\n",
    "\n",
    "# define the child class that inherits from the parent class\n",
    "class Dog(Animal):\n",
    "    # define a method with the same name and signature as the parent method\n",
    "    def speak(self):\n",
    "        print(\"Dog barks\")\n",
    "\n",
    "# create an object of Animal class\n",
    "a = Animal()\n",
    "a.speak() # Output: Animal makes a sound\n",
    "\n",
    "# create an object of Dog class\n",
    "d = Dog()\n",
    "d.speak() # Output: Dog barks\n"
   ]
  },
  {
   "cell_type": "code",
   "execution_count": null,
   "id": "cc9eabfe-bd44-4ccf-a179-131b04d18ab3",
   "metadata": {},
   "outputs": [],
   "source": []
  }
 ],
 "metadata": {
  "kernelspec": {
   "display_name": "Python 3 (ipykernel)",
   "language": "python",
   "name": "python3"
  },
  "language_info": {
   "codemirror_mode": {
    "name": "ipython",
    "version": 3
   },
   "file_extension": ".py",
   "mimetype": "text/x-python",
   "name": "python",
   "nbconvert_exporter": "python",
   "pygments_lexer": "ipython3",
   "version": "3.10.8"
  }
 },
 "nbformat": 4,
 "nbformat_minor": 5
}
