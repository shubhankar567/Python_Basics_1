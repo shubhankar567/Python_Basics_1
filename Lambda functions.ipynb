{
 "cells": [
  {
   "cell_type": "code",
   "execution_count": 1,
   "id": "dad9fc87-a80e-4243-85ee-7c5893cbeb04",
   "metadata": {},
   "outputs": [],
   "source": [
    "#Answer 1\n",
    "\n",
    "l = [('Sachin Tendulkar', 34357), ('Ricky Ponting', 27483), ('Jack Kallis', 25534), ('Virat Kohli', 24936)]\n",
    "l.sort(key = lambda x: x[1])"
   ]
  },
  {
   "cell_type": "code",
   "execution_count": 3,
   "id": "4d17db99-a708-47c9-a592-f1c69f01bab1",
   "metadata": {},
   "outputs": [
    {
     "name": "stdout",
     "output_type": "stream",
     "text": [
      "[('Virat Kohli', 24936), ('Jack Kallis', 25534), ('Ricky Ponting', 27483), ('Sachin Tendulkar', 34357)]\n"
     ]
    }
   ],
   "source": [
    "print(l)"
   ]
  },
  {
   "cell_type": "code",
   "execution_count": 4,
   "id": "9e1dcc58-1e5c-43ab-b9f7-082c4ebe26c6",
   "metadata": {},
   "outputs": [
    {
     "name": "stdout",
     "output_type": "stream",
     "text": [
      "[1, 4, 9, 16, 25, 36, 49, 64, 81, 100]\n"
     ]
    }
   ],
   "source": [
    "#Answer 2\n",
    "\n",
    "myList = [1, 2, 3, 4, 5, 6, 7, 8, 9, 10]\n",
    "squares = list(map(lambda x: x**2, myList))\n",
    "print(squares)"
   ]
  },
  {
   "cell_type": "code",
   "execution_count": 5,
   "id": "574db017-cf9e-4f10-bcca-7047fa3659c6",
   "metadata": {},
   "outputs": [
    {
     "name": "stdout",
     "output_type": "stream",
     "text": [
      "('1', '2', '3', '4', '5', '6', '7', '8', '9', '10')\n"
     ]
    }
   ],
   "source": [
    "#Answer 3\n",
    "\n",
    "str_tuples = tuple(map(str, myList))\n",
    "print(str_tuples)"
   ]
  },
  {
   "cell_type": "code",
   "execution_count": 7,
   "id": "8f0d2fbb-739b-422c-8db8-0224290fb5b3",
   "metadata": {},
   "outputs": [
    {
     "name": "stdout",
     "output_type": "stream",
     "text": [
      "15511210043330985984000000\n"
     ]
    }
   ],
   "source": [
    "#Answer 4\n",
    "from functools import reduce\n",
    "nums = list(range(1, 26))\n",
    "print(reduce(lambda x, y: x*y, nums))"
   ]
  },
  {
   "cell_type": "code",
   "execution_count": 8,
   "id": "bda14ac3-f609-47dd-9b56-fd5661b4c70d",
   "metadata": {},
   "outputs": [
    {
     "name": "stdout",
     "output_type": "stream",
     "text": [
      "[6, 60, 90, 120]\n"
     ]
    }
   ],
   "source": [
    "#Answer 5\n",
    "\n",
    "nums = [2, 3, 6, 9, 27, 60, 90, 120, 55, 46]\n",
    "print(list(filter(lambda x: x%2 == 0 and x%3 == 0, nums)))"
   ]
  },
  {
   "cell_type": "code",
   "execution_count": 9,
   "id": "1764694d-04ef-4066-89ed-512f48aaf6ef",
   "metadata": {},
   "outputs": [
    {
     "name": "stdout",
     "output_type": "stream",
     "text": [
      "['php', 'aba', 'radar', 'level']\n"
     ]
    }
   ],
   "source": [
    "#Answer 6\n",
    "\n",
    "str_list = ['python', 'php', 'aba', 'radar', 'level']\n",
    "pal_list = list(filter(lambda x: x == x[::-1], str_list))\n",
    "print(pal_list)"
   ]
  },
  {
   "cell_type": "code",
   "execution_count": null,
   "id": "2fd56bf4-757d-474f-b6c0-ac47d8a18d68",
   "metadata": {},
   "outputs": [],
   "source": []
  }
 ],
 "metadata": {
  "kernelspec": {
   "display_name": "Python 3 (ipykernel)",
   "language": "python",
   "name": "python3"
  },
  "language_info": {
   "codemirror_mode": {
    "name": "ipython",
    "version": 3
   },
   "file_extension": ".py",
   "mimetype": "text/x-python",
   "name": "python",
   "nbconvert_exporter": "python",
   "pygments_lexer": "ipython3",
   "version": "3.10.8"
  }
 },
 "nbformat": 4,
 "nbformat_minor": 5
}
